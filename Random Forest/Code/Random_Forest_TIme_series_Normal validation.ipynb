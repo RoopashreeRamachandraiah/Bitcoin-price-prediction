{
  "nbformat": 4,
  "nbformat_minor": 0,
  "metadata": {
    "colab": {
      "name": "Random Forest_TIme series_new.ipynb",
      "provenance": [],
      "collapsed_sections": []
    },
    "kernelspec": {
      "name": "python3",
      "display_name": "Python 3"
    },
    "language_info": {
      "name": "python"
    }
  },
  "cells": [
    {
      "cell_type": "code",
      "execution_count": 13,
      "metadata": {
        "id": "ixEV7QNIR_Ot"
      },
      "outputs": [],
      "source": [
        "import sklearn.metrics as metrics\n",
        "#from sklearn.preprocessing import StandardScaler,MinMaxScaler\n",
        "from sklearn.model_selection import RandomizedSearchCV\n",
        "from sklearn.ensemble import RandomForestRegressor\n",
        "import xgboost\n",
        "import matplotlib.pyplot as plt\n",
        "import statsmodels.api as sm\n",
        "import pandas as pd\n",
        "import numpy as np\n",
        "\n",
        "\n",
        "import warnings\n",
        "warnings.filterwarnings('ignore')\n"
      ]
    },
    {
      "cell_type": "code",
      "source": [
        "def mean_absolute_percentage_error(y_test,y_pred):\n",
        "    y_test = np.array(y_test)\n",
        "    y_pred = np.array(y_pred)\n",
        "    errors = abs(y_test - y_pred)\n",
        "    mape = 100 * np.mean(errors / y_test)\n",
        "    print('mape---{}'.format(mape))\n",
        "    mape1= np.mean(np.abs((y_test - y_pred) / y_test)) * 100\n",
        "    \n",
        "    return mape\n"
      ],
      "metadata": {
        "id": "usywK3xBSK9h"
      },
      "execution_count": 2,
      "outputs": []
    },
    {
      "cell_type": "code",
      "source": [
        "def calculate_metrics(y, ypred):\n",
        "    MAE = metrics.mean_absolute_error(y, ypred)\n",
        "    RMSE = metrics.mean_squared_error(y, ypred,squared=False)\n",
        "    mse=metrics.mean_squared_error(y,ypred)\n",
        "    r2=metrics.r2_score(y,ypred)\n",
        "\n",
        "    return MAE,RMSE,mse,r2"
      ],
      "metadata": {
        "id": "lztlPI26SOSb"
      },
      "execution_count": 3,
      "outputs": []
    },
    {
      "cell_type": "code",
      "source": [
        "#price_usd_df=pd.read_excel(\"/content/drive/MyDrive/Dissertation/My Dissertation/Data/After preprocessing/Bitcoin price and forex in USD_next day_after smoothing.xlsx\")\n",
        "price_usd_df=pd.read_excel(\"/content/drive/MyDrive/Dissertation/My Dissertation/Data/Pre-processed results/Removed missing values.xlsx\")\n",
        "\n",
        "print(price_usd_df.dtypes)\n",
        "price_usd_df\n",
        "df=price_usd_df"
      ],
      "metadata": {
        "colab": {
          "base_uri": "https://localhost:8080/"
        },
        "id": "sybP-BvzSUL6",
        "outputId": "73459bf3-4cc7-4931-fa70-e0d431e7dd8d"
      },
      "execution_count": 4,
      "outputs": [
        {
          "output_type": "stream",
          "name": "stdout",
          "text": [
            "Date      datetime64[ns]\n",
            "XBTUSD           float64\n",
            "AUDUSD           float64\n",
            "CADUSD           float64\n",
            "CNYUSD           float64\n",
            "EURUSD           float64\n",
            "GBPUSD           float64\n",
            "JPYUSD           float64\n",
            "NZDUSD           float64\n",
            "SGDUSD           float64\n",
            "dtype: object\n"
          ]
        }
      ]
    },
    {
      "cell_type": "code",
      "source": [
        "df=df.drop(['Date'],axis=1)\n",
        "df.columns"
      ],
      "metadata": {
        "colab": {
          "base_uri": "https://localhost:8080/"
        },
        "id": "TzXw9IAuSb40",
        "outputId": "ae2022de-3984-4a30-a26f-3fd5cdcd7a35"
      },
      "execution_count": 5,
      "outputs": [
        {
          "output_type": "execute_result",
          "data": {
            "text/plain": [
              "Index(['XBTUSD', 'AUDUSD', 'CADUSD', 'CNYUSD', 'EURUSD', 'GBPUSD', 'JPYUSD',\n",
              "       'NZDUSD', 'SGDUSD'],\n",
              "      dtype='object')"
            ]
          },
          "metadata": {},
          "execution_count": 5
        }
      ]
    },
    {
      "cell_type": "code",
      "source": [
        "# transform a time series dataset into a supervised learning dataset\n",
        "def series_to_supervised(data, n_in=1, n_out=1, dropnan=True):\n",
        "  n_vars = 1 if type(data) is list else data.shape[1]\n",
        "  df = pd.DataFrame(data)\n",
        "  cols = list()\n",
        "  # input sequence (t-n, ... t-1)\n",
        "  for i in range(n_in, 0, -1):\n",
        "    cols.append(df.shift(i))\n",
        "    print('input shifted:{}'.format(i))\n",
        "\t# forecast sequence (t, t+1, ... t+n)\n",
        "  for i in range(0, n_out):\n",
        "    cols.append(df.shift(-i))\n",
        "    print('output shifted:{}'.format(i))\n",
        "\t# put it all together\n",
        "  agg = pd.concat(cols, axis=1)\n",
        "\t# drop rows with NaN values\n",
        "  if dropnan:\n",
        "    agg.dropna(inplace=True)\n",
        "  return agg.values"
      ],
      "metadata": {
        "id": "9Ws0BN2AS6-_"
      },
      "execution_count": 6,
      "outputs": []
    },
    {
      "cell_type": "code",
      "source": [
        "lag = 7 #adding 3 days lags creating number of observations \n",
        "n_features = 9 #Features in the dataset.\n",
        "n_obs = lag*n_features\n",
        "n_obs"
      ],
      "metadata": {
        "colab": {
          "base_uri": "https://localhost:8080/"
        },
        "id": "yrSWpJb99Axh",
        "outputId": "0a649b0b-ea20-4f51-f241-834225e42dbb"
      },
      "execution_count": 80,
      "outputs": [
        {
          "output_type": "execute_result",
          "data": {
            "text/plain": [
              "63"
            ]
          },
          "metadata": {},
          "execution_count": 80
        }
      ]
    },
    {
      "cell_type": "code",
      "source": [
        "values=df.values\n",
        "values.shape"
      ],
      "metadata": {
        "colab": {
          "base_uri": "https://localhost:8080/"
        },
        "id": "EJoyfACv9O05",
        "outputId": "b66dc562-0aa6-4584-ee9c-e0af122013ee"
      },
      "execution_count": 82,
      "outputs": [
        {
          "output_type": "execute_result",
          "data": {
            "text/plain": [
              "(1836, 9)"
            ]
          },
          "metadata": {},
          "execution_count": 82
        }
      ]
    },
    {
      "cell_type": "code",
      "source": [
        "series_data = series_to_supervised(values,lag)\n",
        "series_data_Df=pd.DataFrame(series_data)\n",
        "series_data_Df.head(10)"
      ],
      "metadata": {
        "id": "dwY7w-zn9LnS",
        "colab": {
          "base_uri": "https://localhost:8080/",
          "height": 595
        },
        "outputId": "a90c2fcb-4705-470c-aa10-3aa3991aa81d"
      },
      "execution_count": 83,
      "outputs": [
        {
          "output_type": "stream",
          "name": "stdout",
          "text": [
            "input shifted:7\n",
            "input shifted:6\n",
            "input shifted:5\n",
            "input shifted:4\n",
            "input shifted:3\n",
            "input shifted:2\n",
            "input shifted:1\n",
            "output shifted:0\n"
          ]
        },
        {
          "output_type": "execute_result",
          "data": {
            "text/plain": [
              "        0       1       2        3       4       5         6       7       8   \\\n",
              "0  1024.38  0.7219  0.7448  0.14385  1.0405  1.2237  0.008493  0.6918  0.6895   \n",
              "1  1091.66  0.7283  0.7519  0.14504  1.0489  1.2323  0.008529  0.6970  0.6948   \n",
              "2   971.26  0.7338  0.7562  0.14547  1.0607  1.2419  0.008669  0.7026  0.7001   \n",
              "3   898.16  0.7301  0.7555  0.14424  1.0532  1.2287  0.008547  0.6960  0.6950   \n",
              "4   917.41  0.7301  0.7555  0.14424  1.0532  1.2287  0.008547  0.6960  0.6950   \n",
              "5   897.51  0.7354  0.7567  0.14416  1.0574  1.2163  0.008617  0.7016  0.6962   \n",
              "6   909.81  0.7368  0.7557  0.14435  1.0554  1.2177  0.008637  0.6990  0.6963   \n",
              "7   789.11  0.7441  0.7589  0.14471  1.0582  1.2213  0.008665  0.7055  0.7008   \n",
              "8   827.63  0.7484  0.7608  0.14515  1.0613  1.2162  0.008717  0.7095  0.7006   \n",
              "9   830.70  0.7502  0.7625  0.14506  1.0643  1.2182  0.008733  0.7131  0.6998   \n",
              "\n",
              "        9   ...      62      63      64      65       66      67      68  \\\n",
              "0  1091.66  ...  0.6963  789.11  0.7441  0.7589  0.14471  1.0582  1.2213   \n",
              "1   971.26  ...  0.7008  827.63  0.7484  0.7608  0.14515  1.0613  1.2162   \n",
              "2   898.16  ...  0.7006  830.70  0.7502  0.7625  0.14506  1.0643  1.2182   \n",
              "3   917.41  ...  0.6998  822.20  0.7502  0.7625  0.14506  1.0643  1.2182   \n",
              "4   897.51  ...  0.6998  833.10  0.7477  0.7589  0.14506  1.0601  1.2047   \n",
              "5   909.81  ...  0.6991  898.92  0.7567  0.7668  0.14613  1.0713  1.2414   \n",
              "6   789.11  ...  0.7065  875.76  0.7505  0.7535  0.14546  1.0630  1.2261   \n",
              "7   827.63  ...  0.6995  907.31  0.7561  0.7509  0.14530  1.0664  1.2342   \n",
              "8   830.70  ...  0.7014  898.86  0.7555  0.7508  0.14551  1.0703  1.2375   \n",
              "9   822.20  ...  0.7015  920.85  0.7555  0.7508  0.14551  1.0703  1.2375   \n",
              "\n",
              "         69      70      71  \n",
              "0  0.008665  0.7055  0.7008  \n",
              "1  0.008717  0.7095  0.7006  \n",
              "2  0.008733  0.7131  0.6998  \n",
              "3  0.008733  0.7131  0.6998  \n",
              "4  0.008757  0.7103  0.6991  \n",
              "5  0.008880  0.7215  0.7065  \n",
              "6  0.008724  0.7123  0.6995  \n",
              "7  0.008706  0.7190  0.7014  \n",
              "8  0.008724  0.7170  0.7015  \n",
              "9  0.008724  0.7170  0.7015  \n",
              "\n",
              "[10 rows x 72 columns]"
            ],
            "text/html": [
              "\n",
              "  <div id=\"df-687ca686-7cce-4e77-9dd3-dc884855a285\">\n",
              "    <div class=\"colab-df-container\">\n",
              "      <div>\n",
              "<style scoped>\n",
              "    .dataframe tbody tr th:only-of-type {\n",
              "        vertical-align: middle;\n",
              "    }\n",
              "\n",
              "    .dataframe tbody tr th {\n",
              "        vertical-align: top;\n",
              "    }\n",
              "\n",
              "    .dataframe thead th {\n",
              "        text-align: right;\n",
              "    }\n",
              "</style>\n",
              "<table border=\"1\" class=\"dataframe\">\n",
              "  <thead>\n",
              "    <tr style=\"text-align: right;\">\n",
              "      <th></th>\n",
              "      <th>0</th>\n",
              "      <th>1</th>\n",
              "      <th>2</th>\n",
              "      <th>3</th>\n",
              "      <th>4</th>\n",
              "      <th>5</th>\n",
              "      <th>6</th>\n",
              "      <th>7</th>\n",
              "      <th>8</th>\n",
              "      <th>9</th>\n",
              "      <th>...</th>\n",
              "      <th>62</th>\n",
              "      <th>63</th>\n",
              "      <th>64</th>\n",
              "      <th>65</th>\n",
              "      <th>66</th>\n",
              "      <th>67</th>\n",
              "      <th>68</th>\n",
              "      <th>69</th>\n",
              "      <th>70</th>\n",
              "      <th>71</th>\n",
              "    </tr>\n",
              "  </thead>\n",
              "  <tbody>\n",
              "    <tr>\n",
              "      <th>0</th>\n",
              "      <td>1024.38</td>\n",
              "      <td>0.7219</td>\n",
              "      <td>0.7448</td>\n",
              "      <td>0.14385</td>\n",
              "      <td>1.0405</td>\n",
              "      <td>1.2237</td>\n",
              "      <td>0.008493</td>\n",
              "      <td>0.6918</td>\n",
              "      <td>0.6895</td>\n",
              "      <td>1091.66</td>\n",
              "      <td>...</td>\n",
              "      <td>0.6963</td>\n",
              "      <td>789.11</td>\n",
              "      <td>0.7441</td>\n",
              "      <td>0.7589</td>\n",
              "      <td>0.14471</td>\n",
              "      <td>1.0582</td>\n",
              "      <td>1.2213</td>\n",
              "      <td>0.008665</td>\n",
              "      <td>0.7055</td>\n",
              "      <td>0.7008</td>\n",
              "    </tr>\n",
              "    <tr>\n",
              "      <th>1</th>\n",
              "      <td>1091.66</td>\n",
              "      <td>0.7283</td>\n",
              "      <td>0.7519</td>\n",
              "      <td>0.14504</td>\n",
              "      <td>1.0489</td>\n",
              "      <td>1.2323</td>\n",
              "      <td>0.008529</td>\n",
              "      <td>0.6970</td>\n",
              "      <td>0.6948</td>\n",
              "      <td>971.26</td>\n",
              "      <td>...</td>\n",
              "      <td>0.7008</td>\n",
              "      <td>827.63</td>\n",
              "      <td>0.7484</td>\n",
              "      <td>0.7608</td>\n",
              "      <td>0.14515</td>\n",
              "      <td>1.0613</td>\n",
              "      <td>1.2162</td>\n",
              "      <td>0.008717</td>\n",
              "      <td>0.7095</td>\n",
              "      <td>0.7006</td>\n",
              "    </tr>\n",
              "    <tr>\n",
              "      <th>2</th>\n",
              "      <td>971.26</td>\n",
              "      <td>0.7338</td>\n",
              "      <td>0.7562</td>\n",
              "      <td>0.14547</td>\n",
              "      <td>1.0607</td>\n",
              "      <td>1.2419</td>\n",
              "      <td>0.008669</td>\n",
              "      <td>0.7026</td>\n",
              "      <td>0.7001</td>\n",
              "      <td>898.16</td>\n",
              "      <td>...</td>\n",
              "      <td>0.7006</td>\n",
              "      <td>830.70</td>\n",
              "      <td>0.7502</td>\n",
              "      <td>0.7625</td>\n",
              "      <td>0.14506</td>\n",
              "      <td>1.0643</td>\n",
              "      <td>1.2182</td>\n",
              "      <td>0.008733</td>\n",
              "      <td>0.7131</td>\n",
              "      <td>0.6998</td>\n",
              "    </tr>\n",
              "    <tr>\n",
              "      <th>3</th>\n",
              "      <td>898.16</td>\n",
              "      <td>0.7301</td>\n",
              "      <td>0.7555</td>\n",
              "      <td>0.14424</td>\n",
              "      <td>1.0532</td>\n",
              "      <td>1.2287</td>\n",
              "      <td>0.008547</td>\n",
              "      <td>0.6960</td>\n",
              "      <td>0.6950</td>\n",
              "      <td>917.41</td>\n",
              "      <td>...</td>\n",
              "      <td>0.6998</td>\n",
              "      <td>822.20</td>\n",
              "      <td>0.7502</td>\n",
              "      <td>0.7625</td>\n",
              "      <td>0.14506</td>\n",
              "      <td>1.0643</td>\n",
              "      <td>1.2182</td>\n",
              "      <td>0.008733</td>\n",
              "      <td>0.7131</td>\n",
              "      <td>0.6998</td>\n",
              "    </tr>\n",
              "    <tr>\n",
              "      <th>4</th>\n",
              "      <td>917.41</td>\n",
              "      <td>0.7301</td>\n",
              "      <td>0.7555</td>\n",
              "      <td>0.14424</td>\n",
              "      <td>1.0532</td>\n",
              "      <td>1.2287</td>\n",
              "      <td>0.008547</td>\n",
              "      <td>0.6960</td>\n",
              "      <td>0.6950</td>\n",
              "      <td>897.51</td>\n",
              "      <td>...</td>\n",
              "      <td>0.6998</td>\n",
              "      <td>833.10</td>\n",
              "      <td>0.7477</td>\n",
              "      <td>0.7589</td>\n",
              "      <td>0.14506</td>\n",
              "      <td>1.0601</td>\n",
              "      <td>1.2047</td>\n",
              "      <td>0.008757</td>\n",
              "      <td>0.7103</td>\n",
              "      <td>0.6991</td>\n",
              "    </tr>\n",
              "    <tr>\n",
              "      <th>5</th>\n",
              "      <td>897.51</td>\n",
              "      <td>0.7354</td>\n",
              "      <td>0.7567</td>\n",
              "      <td>0.14416</td>\n",
              "      <td>1.0574</td>\n",
              "      <td>1.2163</td>\n",
              "      <td>0.008617</td>\n",
              "      <td>0.7016</td>\n",
              "      <td>0.6962</td>\n",
              "      <td>909.81</td>\n",
              "      <td>...</td>\n",
              "      <td>0.6991</td>\n",
              "      <td>898.92</td>\n",
              "      <td>0.7567</td>\n",
              "      <td>0.7668</td>\n",
              "      <td>0.14613</td>\n",
              "      <td>1.0713</td>\n",
              "      <td>1.2414</td>\n",
              "      <td>0.008880</td>\n",
              "      <td>0.7215</td>\n",
              "      <td>0.7065</td>\n",
              "    </tr>\n",
              "    <tr>\n",
              "      <th>6</th>\n",
              "      <td>909.81</td>\n",
              "      <td>0.7368</td>\n",
              "      <td>0.7557</td>\n",
              "      <td>0.14435</td>\n",
              "      <td>1.0554</td>\n",
              "      <td>1.2177</td>\n",
              "      <td>0.008637</td>\n",
              "      <td>0.6990</td>\n",
              "      <td>0.6963</td>\n",
              "      <td>789.11</td>\n",
              "      <td>...</td>\n",
              "      <td>0.7065</td>\n",
              "      <td>875.76</td>\n",
              "      <td>0.7505</td>\n",
              "      <td>0.7535</td>\n",
              "      <td>0.14546</td>\n",
              "      <td>1.0630</td>\n",
              "      <td>1.2261</td>\n",
              "      <td>0.008724</td>\n",
              "      <td>0.7123</td>\n",
              "      <td>0.6995</td>\n",
              "    </tr>\n",
              "    <tr>\n",
              "      <th>7</th>\n",
              "      <td>789.11</td>\n",
              "      <td>0.7441</td>\n",
              "      <td>0.7589</td>\n",
              "      <td>0.14471</td>\n",
              "      <td>1.0582</td>\n",
              "      <td>1.2213</td>\n",
              "      <td>0.008665</td>\n",
              "      <td>0.7055</td>\n",
              "      <td>0.7008</td>\n",
              "      <td>827.63</td>\n",
              "      <td>...</td>\n",
              "      <td>0.6995</td>\n",
              "      <td>907.31</td>\n",
              "      <td>0.7561</td>\n",
              "      <td>0.7509</td>\n",
              "      <td>0.14530</td>\n",
              "      <td>1.0664</td>\n",
              "      <td>1.2342</td>\n",
              "      <td>0.008706</td>\n",
              "      <td>0.7190</td>\n",
              "      <td>0.7014</td>\n",
              "    </tr>\n",
              "    <tr>\n",
              "      <th>8</th>\n",
              "      <td>827.63</td>\n",
              "      <td>0.7484</td>\n",
              "      <td>0.7608</td>\n",
              "      <td>0.14515</td>\n",
              "      <td>1.0613</td>\n",
              "      <td>1.2162</td>\n",
              "      <td>0.008717</td>\n",
              "      <td>0.7095</td>\n",
              "      <td>0.7006</td>\n",
              "      <td>830.70</td>\n",
              "      <td>...</td>\n",
              "      <td>0.7014</td>\n",
              "      <td>898.86</td>\n",
              "      <td>0.7555</td>\n",
              "      <td>0.7508</td>\n",
              "      <td>0.14551</td>\n",
              "      <td>1.0703</td>\n",
              "      <td>1.2375</td>\n",
              "      <td>0.008724</td>\n",
              "      <td>0.7170</td>\n",
              "      <td>0.7015</td>\n",
              "    </tr>\n",
              "    <tr>\n",
              "      <th>9</th>\n",
              "      <td>830.70</td>\n",
              "      <td>0.7502</td>\n",
              "      <td>0.7625</td>\n",
              "      <td>0.14506</td>\n",
              "      <td>1.0643</td>\n",
              "      <td>1.2182</td>\n",
              "      <td>0.008733</td>\n",
              "      <td>0.7131</td>\n",
              "      <td>0.6998</td>\n",
              "      <td>822.20</td>\n",
              "      <td>...</td>\n",
              "      <td>0.7015</td>\n",
              "      <td>920.85</td>\n",
              "      <td>0.7555</td>\n",
              "      <td>0.7508</td>\n",
              "      <td>0.14551</td>\n",
              "      <td>1.0703</td>\n",
              "      <td>1.2375</td>\n",
              "      <td>0.008724</td>\n",
              "      <td>0.7170</td>\n",
              "      <td>0.7015</td>\n",
              "    </tr>\n",
              "  </tbody>\n",
              "</table>\n",
              "<p>10 rows × 72 columns</p>\n",
              "</div>\n",
              "      <button class=\"colab-df-convert\" onclick=\"convertToInteractive('df-687ca686-7cce-4e77-9dd3-dc884855a285')\"\n",
              "              title=\"Convert this dataframe to an interactive table.\"\n",
              "              style=\"display:none;\">\n",
              "        \n",
              "  <svg xmlns=\"http://www.w3.org/2000/svg\" height=\"24px\"viewBox=\"0 0 24 24\"\n",
              "       width=\"24px\">\n",
              "    <path d=\"M0 0h24v24H0V0z\" fill=\"none\"/>\n",
              "    <path d=\"M18.56 5.44l.94 2.06.94-2.06 2.06-.94-2.06-.94-.94-2.06-.94 2.06-2.06.94zm-11 1L8.5 8.5l.94-2.06 2.06-.94-2.06-.94L8.5 2.5l-.94 2.06-2.06.94zm10 10l.94 2.06.94-2.06 2.06-.94-2.06-.94-.94-2.06-.94 2.06-2.06.94z\"/><path d=\"M17.41 7.96l-1.37-1.37c-.4-.4-.92-.59-1.43-.59-.52 0-1.04.2-1.43.59L10.3 9.45l-7.72 7.72c-.78.78-.78 2.05 0 2.83L4 21.41c.39.39.9.59 1.41.59.51 0 1.02-.2 1.41-.59l7.78-7.78 2.81-2.81c.8-.78.8-2.07 0-2.86zM5.41 20L4 18.59l7.72-7.72 1.47 1.35L5.41 20z\"/>\n",
              "  </svg>\n",
              "      </button>\n",
              "      \n",
              "  <style>\n",
              "    .colab-df-container {\n",
              "      display:flex;\n",
              "      flex-wrap:wrap;\n",
              "      gap: 12px;\n",
              "    }\n",
              "\n",
              "    .colab-df-convert {\n",
              "      background-color: #E8F0FE;\n",
              "      border: none;\n",
              "      border-radius: 50%;\n",
              "      cursor: pointer;\n",
              "      display: none;\n",
              "      fill: #1967D2;\n",
              "      height: 32px;\n",
              "      padding: 0 0 0 0;\n",
              "      width: 32px;\n",
              "    }\n",
              "\n",
              "    .colab-df-convert:hover {\n",
              "      background-color: #E2EBFA;\n",
              "      box-shadow: 0px 1px 2px rgba(60, 64, 67, 0.3), 0px 1px 3px 1px rgba(60, 64, 67, 0.15);\n",
              "      fill: #174EA6;\n",
              "    }\n",
              "\n",
              "    [theme=dark] .colab-df-convert {\n",
              "      background-color: #3B4455;\n",
              "      fill: #D2E3FC;\n",
              "    }\n",
              "\n",
              "    [theme=dark] .colab-df-convert:hover {\n",
              "      background-color: #434B5C;\n",
              "      box-shadow: 0px 1px 3px 1px rgba(0, 0, 0, 0.15);\n",
              "      filter: drop-shadow(0px 1px 2px rgba(0, 0, 0, 0.3));\n",
              "      fill: #FFFFFF;\n",
              "    }\n",
              "  </style>\n",
              "\n",
              "      <script>\n",
              "        const buttonEl =\n",
              "          document.querySelector('#df-687ca686-7cce-4e77-9dd3-dc884855a285 button.colab-df-convert');\n",
              "        buttonEl.style.display =\n",
              "          google.colab.kernel.accessAllowed ? 'block' : 'none';\n",
              "\n",
              "        async function convertToInteractive(key) {\n",
              "          const element = document.querySelector('#df-687ca686-7cce-4e77-9dd3-dc884855a285');\n",
              "          const dataTable =\n",
              "            await google.colab.kernel.invokeFunction('convertToInteractive',\n",
              "                                                     [key], {});\n",
              "          if (!dataTable) return;\n",
              "\n",
              "          const docLinkHtml = 'Like what you see? Visit the ' +\n",
              "            '<a target=\"_blank\" href=https://colab.research.google.com/notebooks/data_table.ipynb>data table notebook</a>'\n",
              "            + ' to learn more about interactive tables.';\n",
              "          element.innerHTML = '';\n",
              "          dataTable['output_type'] = 'display_data';\n",
              "          await google.colab.output.renderOutput(dataTable, element);\n",
              "          const docLink = document.createElement('div');\n",
              "          docLink.innerHTML = docLinkHtml;\n",
              "          element.appendChild(docLink);\n",
              "        }\n",
              "      </script>\n",
              "    </div>\n",
              "  </div>\n",
              "  "
            ]
          },
          "metadata": {},
          "execution_count": 83
        }
      ]
    },
    {
      "cell_type": "code",
      "source": [
        "series_data.shape"
      ],
      "metadata": {
        "colab": {
          "base_uri": "https://localhost:8080/"
        },
        "id": "Vq6Q0DH89zD2",
        "outputId": "aeb7365f-2ac6-4744-994b-5a2c0a3f5eaf"
      },
      "execution_count": 84,
      "outputs": [
        {
          "output_type": "execute_result",
          "data": {
            "text/plain": [
              "(1829, 72)"
            ]
          },
          "metadata": {},
          "execution_count": 84
        }
      ]
    },
    {
      "cell_type": "code",
      "source": [
        "y=series_data[:,-n_features].reshape(-1,1)\n",
        "x=series_data[:,:-n_features]"
      ],
      "metadata": {
        "id": "wYiDbBi2w8B5"
      },
      "execution_count": 85,
      "outputs": []
    },
    {
      "cell_type": "code",
      "source": [
        "split_point=int(0.8*len(series_data))\n",
        "split_point"
      ],
      "metadata": {
        "colab": {
          "base_uri": "https://localhost:8080/"
        },
        "id": "EPe2iFtb9ZOA",
        "outputId": "2d3b08ee-3d0f-4789-fc2b-e517f87302c2"
      },
      "execution_count": 86,
      "outputs": [
        {
          "output_type": "execute_result",
          "data": {
            "text/plain": [
              "1463"
            ]
          },
          "metadata": {},
          "execution_count": 86
        }
      ]
    },
    {
      "cell_type": "code",
      "source": [
        "train_X,test_X,train_Y,test_Y=x[:int(0.8*(len(x)))],x[int(0.8*(len(x))):],y[:int(0.8*(len(y)))],y[int(0.8*(len(y))):]"
      ],
      "metadata": {
        "id": "vb25O86B9ikn"
      },
      "execution_count": 87,
      "outputs": []
    },
    {
      "cell_type": "code",
      "source": [
        "print(train_X.shape)\n",
        "print(train_Y.shape)\n",
        "print(test_X.shape)\n",
        "print(test_Y.shape)\n",
        "print(train_X)\n",
        "print(train_Y)"
      ],
      "metadata": {
        "colab": {
          "base_uri": "https://localhost:8080/"
        },
        "id": "iYOaVKFy9sQC",
        "outputId": "b0ca1c2e-30c4-4d01-c20f-343f15868c66"
      },
      "execution_count": 88,
      "outputs": [
        {
          "output_type": "stream",
          "name": "stdout",
          "text": [
            "(1463, 63)\n",
            "(1463, 1)\n",
            "(366, 63)\n",
            "(366, 1)\n",
            "[[1.024380e+03 7.219000e-01 7.448000e-01 ... 8.637000e-03 6.990000e-01\n",
            "  6.963000e-01]\n",
            " [1.091660e+03 7.283000e-01 7.519000e-01 ... 8.665000e-03 7.055000e-01\n",
            "  7.008000e-01]\n",
            " [9.712600e+02 7.338000e-01 7.562000e-01 ... 8.717000e-03 7.095000e-01\n",
            "  7.006000e-01]\n",
            " ...\n",
            " [3.385430e+04 7.488000e-01 8.035000e-01 ... 9.084000e-03 6.999000e-01\n",
            "  7.368000e-01]\n",
            " [3.284959e+04 7.476000e-01 8.030000e-01 ... 9.084000e-03 6.999000e-01\n",
            "  7.368000e-01]\n",
            " [3.250834e+04 7.447000e-01 7.990000e-01 ... 9.136000e-03 6.944000e-01\n",
            "  7.334000e-01]]\n",
            "[[  789.11]\n",
            " [  827.63]\n",
            " [  830.7 ]\n",
            " ...\n",
            " [31652.45]\n",
            " [30776.39]\n",
            " [29865.53]]\n"
          ]
        }
      ]
    },
    {
      "cell_type": "code",
      "source": [
        "regressor=RandomForestRegressor(n_estimators=1000)\n",
        "rf_model_base=regressor.fit(train_X,train_Y)\n"
      ],
      "metadata": {
        "id": "-SMLsfap-MP6"
      },
      "execution_count": 89,
      "outputs": []
    },
    {
      "cell_type": "code",
      "source": [
        "base_pred=rf_model_base.predict(test_X)\n",
        "base_pred=base_pred.reshape(-1,1)"
      ],
      "metadata": {
        "id": "sj8g6JZ8-ZHk"
      },
      "execution_count": 90,
      "outputs": []
    },
    {
      "cell_type": "code",
      "source": [
        "test_Y.reshape(-1,1)"
      ],
      "metadata": {
        "colab": {
          "base_uri": "https://localhost:8080/"
        },
        "id": "_qMrB3W-lN4t",
        "outputId": "d0649385-db89-45a2-ca79-66b03d0ab496"
      },
      "execution_count": 91,
      "outputs": [
        {
          "output_type": "execute_result",
          "data": {
            "text/plain": [
              "array([[31818.67],\n",
              "       [32247.75],\n",
              "       [32500.7 ],\n",
              "       [33939.65],\n",
              "       [34483.2 ],\n",
              "       [37751.68],\n",
              "       [38044.5 ],\n",
              "       [39985.95],\n",
              "       [39722.08],\n",
              "       [40689.27],\n",
              "       [41540.22],\n",
              "       [41268.06],\n",
              "       [38856.63],\n",
              "       [38072.95],\n",
              "       [39754.38],\n",
              "       [40899.36],\n",
              "       [42719.51],\n",
              "       [43975.95],\n",
              "       [43867.4 ],\n",
              "       [45464.51],\n",
              "       [45642.9 ],\n",
              "       [46345.49],\n",
              "       [44480.11],\n",
              "       [47609.88],\n",
              "       [46666.78],\n",
              "       [46718.33],\n",
              "       [46078.11],\n",
              "       [44992.1 ],\n",
              "       [44546.67],\n",
              "       [46587.99],\n",
              "       [48668.03],\n",
              "       [49011.76],\n",
              "       [48414.22],\n",
              "       [49515.08],\n",
              "       [48345.65],\n",
              "       [48712.63],\n",
              "       [47036.43],\n",
              "       [48921.81],\n",
              "       [48755.08],\n",
              "       [48925.24],\n",
              "       [48648.9 ],\n",
              "       [47008.53],\n",
              "       [48272.51],\n",
              "       [49562.1 ],\n",
              "       [50152.52],\n",
              "       [50182.7 ],\n",
              "       [51668.21],\n",
              "       [51934.74],\n",
              "       [46819.01],\n",
              "       [46060.72],\n",
              "       [46256.1 ],\n",
              "       [45077.81],\n",
              "       [45319.68],\n",
              "       [45089.47],\n",
              "       [45187.52],\n",
              "       [46828.18],\n",
              "       [47941.58],\n",
              "       [47149.38],\n",
              "       [46990.35],\n",
              "       [47994.88],\n",
              "       [47601.08],\n",
              "       [43537.86],\n",
              "       [40926.74],\n",
              "       [43451.15],\n",
              "       [44710.2 ],\n",
              "       [42981.54],\n",
              "       [42678.81],\n",
              "       [43651.76],\n",
              "       [42706.99],\n",
              "       [41785.9 ],\n",
              "       [41125.06],\n",
              "       [43436.35],\n",
              "       [48132.9 ],\n",
              "       [48019.13],\n",
              "       [48464.31],\n",
              "       [49006.15],\n",
              "       [51474.19],\n",
              "       [54936.9 ],\n",
              "       [54184.24],\n",
              "       [53993.31],\n",
              "       [54670.87],\n",
              "       [55435.21],\n",
              "       [57341.5 ],\n",
              "       [55362.51],\n",
              "       [56982.87],\n",
              "       [57443.04],\n",
              "       [62526.67],\n",
              "       [61014.11],\n",
              "       [59400.14],\n",
              "       [61367.44],\n",
              "       [64121.31],\n",
              "       [65996.35],\n",
              "       [62680.43],\n",
              "       [60726.01],\n",
              "       [61124.51],\n",
              "       [61159.77],\n",
              "       [62544.64],\n",
              "       [62096.9 ],\n",
              "       [58924.76],\n",
              "       [61395.58],\n",
              "       [62395.66],\n",
              "       [61682.78],\n",
              "       [60975.98],\n",
              "       [60727.52],\n",
              "       [63141.03],\n",
              "       [62776.06],\n",
              "       [61365.05],\n",
              "       [60976.2 ],\n",
              "       [61201.83],\n",
              "       [62884.45],\n",
              "       [66138.54],\n",
              "       [67734.04],\n",
              "       [64293.61],\n",
              "       [65069.89],\n",
              "       [64100.68],\n",
              "       [64367.64],\n",
              "       [64336.55],\n",
              "       [63899.88],\n",
              "       [60488.5 ],\n",
              "       [60117.19],\n",
              "       [57595.39],\n",
              "       [57869.63],\n",
              "       [59651.08],\n",
              "       [59541.76],\n",
              "       [56278.01],\n",
              "       [57709.14],\n",
              "       [57331.67],\n",
              "       [58855.15],\n",
              "       [54019.74],\n",
              "       [54625.03],\n",
              "       [56341.89],\n",
              "       [58316.89],\n",
              "       [57138.67],\n",
              "       [57029.49],\n",
              "       [56903.45],\n",
              "       [53655.27],\n",
              "       [48765.22],\n",
              "       [49229.81],\n",
              "       [50120.56],\n",
              "       [50527.72],\n",
              "       [50635.11],\n",
              "       [47997.76],\n",
              "       [47952.18],\n",
              "       [48813.56],\n",
              "       [49965.29],\n",
              "       [46828.95],\n",
              "       [48310.62],\n",
              "       [49192.58],\n",
              "       [48111.68],\n",
              "       [46873.03],\n",
              "       [46971.17],\n",
              "       [46741.79],\n",
              "       [46987.56],\n",
              "       [49106.42],\n",
              "       [49073.95],\n",
              "       [50849.2 ],\n",
              "       [50908.79],\n",
              "       [50986.51],\n",
              "       [50808.21],\n",
              "       [50989.1 ],\n",
              "       [47561.31],\n",
              "       [47232.15],\n",
              "       [47298.35],\n",
              "       [46333.65],\n",
              "       [47333.2 ],\n",
              "       [47028.52],\n",
              "       [45997.26],\n",
              "       [46220.42],\n",
              "       [43603.88],\n",
              "       [43120.88],\n",
              "       [41881.75],\n",
              "       [41788.38],\n",
              "       [42315.13],\n",
              "       [41729.31],\n",
              "       [42687.27],\n",
              "       [43793.81],\n",
              "       [42828.59],\n",
              "       [43321.7 ],\n",
              "       [43333.72],\n",
              "       [42982.4 ],\n",
              "       [41743.99],\n",
              "       [42395.22],\n",
              "       [41724.22],\n",
              "       [41326.77],\n",
              "       [36692.38],\n",
              "       [35402.77],\n",
              "       [35364.47],\n",
              "       [36828.36],\n",
              "       [36579.75],\n",
              "       [36356.7 ],\n",
              "       [36198.95],\n",
              "       [37807.95],\n",
              "       [38388.74],\n",
              "       [37754.4 ],\n",
              "       [38437.84],\n",
              "       [38813.82],\n",
              "       [36936.93],\n",
              "       [36964.58],\n",
              "       [40647.25],\n",
              "       [41673.4 ],\n",
              "       [41687.25],\n",
              "       [44102.99],\n",
              "       [44230.11],\n",
              "       [44497.51],\n",
              "       [43776.42],\n",
              "       [42563.24],\n",
              "       [41899.77],\n",
              "       [42228.76],\n",
              "       [42249.01],\n",
              "       [43999.15],\n",
              "       [44092.86],\n",
              "       [40699.63],\n",
              "       [39991.9 ],\n",
              "       [39942.63],\n",
              "       [38252.4 ],\n",
              "       [37076.09],\n",
              "       [37893.47],\n",
              "       [37543.5 ],\n",
              "       [38414.95],\n",
              "       [38994.5 ],\n",
              "       [39480.74],\n",
              "       [37435.48],\n",
              "       [41654.97],\n",
              "       [43900.24],\n",
              "       [44090.72],\n",
              "       [42096.97],\n",
              "       [39393.7 ],\n",
              "       [39380.38],\n",
              "       [39030.04],\n",
              "       [37839.36],\n",
              "       [38506.43],\n",
              "       [41893.74],\n",
              "       [39329.95],\n",
              "       [38860.7 ],\n",
              "       [39102.38],\n",
              "       [38687.43],\n",
              "       [38725.24],\n",
              "       [39441.9 ],\n",
              "       [41258.79],\n",
              "       [40724.56],\n",
              "       [41755.9 ],\n",
              "       [42219.42],\n",
              "       [41308.02],\n",
              "       [41136.88],\n",
              "       [42606.24],\n",
              "       [42368.58],\n",
              "       [43895.65],\n",
              "       [44577.76],\n",
              "       [44590.9 ],\n",
              "       [46111.06],\n",
              "       [47967.56],\n",
              "       [47486.26],\n",
              "       [47277.24],\n",
              "       [45767.58],\n",
              "       [46168.58],\n",
              "       [46196.63],\n",
              "       [46387.63],\n",
              "       [46311.76],\n",
              "       [45868.99],\n",
              "       [43885.38],\n",
              "       [43577.22],\n",
              "       [42815.77],\n",
              "       [42447.77],\n",
              "       [43125.15],\n",
              "       [39846.47],\n",
              "       [39534.08],\n",
              "       [41254.52],\n",
              "       [39915.93],\n",
              "       [40404.52],\n",
              "       [40294.88],\n",
              "       [40273.09],\n",
              "       [40673.67],\n",
              "       [41297.9 ],\n",
              "       [41430.79],\n",
              "       [40615.45],\n",
              "       [39621.31],\n",
              "       [39808.74],\n",
              "       [39515.9 ],\n",
              "       [40186.18],\n",
              "       [38123.52],\n",
              "       [39106.93],\n",
              "       [39889.27],\n",
              "       [38560.04],\n",
              "       [38334.7 ],\n",
              "       [38320.24],\n",
              "       [38312.41],\n",
              "       [37784.82],\n",
              "       [39800.33],\n",
              "       [36456.02],\n",
              "       [36077.29],\n",
              "       [35768.23],\n",
              "       [34225.04],\n",
              "       [30959.3 ],\n",
              "       [31000.83],\n",
              "       [28402.78],\n",
              "       [28546.25],\n",
              "       [29760.13],\n",
              "       [29341.75],\n",
              "       [31019.19],\n",
              "       [29908.75],\n",
              "       [30077.8 ],\n",
              "       [29205.89],\n",
              "       [30231.08],\n",
              "       [29117.13],\n",
              "       [29391.93],\n",
              "       [29907.98],\n",
              "       [29314.55],\n",
              "       [29438.3 ],\n",
              "       [29764.46],\n",
              "       [29437.55],\n",
              "       [28728.9 ],\n",
              "       [28999.04],\n",
              "       [29160.07],\n",
              "       [31257.74],\n",
              "       [31788.28],\n",
              "       [29621.61],\n",
              "       [30225.18],\n",
              "       [29640.5 ],\n",
              "       [29733.76],\n",
              "       [29925.66],\n",
              "       [31438.72],\n",
              "       [31330.81],\n",
              "       [30179.77],\n",
              "       [30161.34],\n",
              "       [29177.39],\n",
              "       [28380.38],\n",
              "       [27345.79],\n",
              "       [23209.61],\n",
              "       [21966.38],\n",
              "       [21640.29],\n",
              "       [20677.24],\n",
              "       [20630.54],\n",
              "       [17785.09],\n",
              "       [20607.54],\n",
              "       [20427.23],\n",
              "       [20838.45],\n",
              "       [19857.05],\n",
              "       [20795.38],\n",
              "       [21183.82],\n",
              "       [21214.51],\n",
              "       [21392.35],\n",
              "       [20898.65],\n",
              "       [20247.7 ],\n",
              "       [20197.75],\n",
              "       [18731.3 ],\n",
              "       [19406.69],\n",
              "       [19238.99],\n",
              "       [19420.48],\n",
              "       [19755.85],\n",
              "       [20441.63],\n",
              "       [20380.  ],\n",
              "       [21610.58],\n",
              "       [21846.53],\n",
              "       [21672.98],\n",
              "       [20972.87],\n",
              "       [20409.54],\n",
              "       [19443.28],\n",
              "       [19657.01],\n",
              "       [20667.93],\n",
              "       [20926.53],\n",
              "       [21204.61],\n",
              "       [20930.58],\n",
              "       [21487.97],\n",
              "       [23304.71],\n",
              "       [23258.12],\n",
              "       [22848.73]])"
            ]
          },
          "metadata": {},
          "execution_count": 91
        }
      ]
    },
    {
      "cell_type": "code",
      "source": [
        "import matplotlib.pyplot as plt\n",
        "plt.rcParams[\"figure.figsize\"] = (30,10)\n",
        "plt.plot(base_pred,label='Random forest predictions')\n",
        "plt.plot(test_Y,label='Actual price')\n",
        "plt.legend(loc=\"upper left\")\n",
        "plt.show()"
      ],
      "metadata": {
        "colab": {
          "base_uri": "https://localhost:8080/",
          "height": 432
        },
        "id": "R2_vFP2K-l3u",
        "outputId": "aec96aab-c5d8-4aaf-fa5f-13aee1cb2d27"
      },
      "execution_count": 92,
      "outputs": [
        {
          "output_type": "display_data",
          "data": {
            "text/plain": [
              "<Figure size 2160x720 with 1 Axes>"
            ],
            "image/png": "[encoded data removed]"
          },
          "metadata": {
            "needs_background": "light"
          }
        }
      ]
    },
    {
      "cell_type": "code",
      "source": [
        "mape_base = mean_absolute_percentage_error(test_Y,base_pred)\n",
        "mae_base,rmse_base,mse_base,r2_base=calculate_metrics(test_Y,base_pred)\n",
        "print('Results of Random Forest model without tuning')\n",
        "print('MAPE  :{:0.4f}'.format(mape_base))\n",
        "print('MAE  :{:0.4f}'.format(mae_base))\n",
        "print('RMSE :{:0.4f} '.format(rmse_base))\n",
        "print('MSE :{:0.4f} '.format(mse_base))\n",
        "print('r2   :{:0.4f}'.format(r2_base))"
      ],
      "metadata": {
        "colab": {
          "base_uri": "https://localhost:8080/"
        },
        "id": "pEcYmt86-u-o",
        "outputId": "6958a8d6-66ee-4201-8b40-2ce34785b8f6"
      },
      "execution_count": 109,
      "outputs": [
        {
          "output_type": "stream",
          "name": "stdout",
          "text": [
            "mape---5.8125214165048185\n",
            "Results of Random Forest model without tuning\n",
            "MAPE  :5.8125\n",
            "MAE  :2312.0777\n",
            "RMSE :2826.4613 \n",
            "MSE :7988883.3031 \n",
            "r2   :0.9383\n"
          ]
        }
      ]
    },
    {
      "cell_type": "code",
      "source": [
        "scaled_rmse_tuned=rmse_base/(test_Y.max()-test_Y.min())\n",
        "print('scaled_rmse base  :{:0.4f}'.format(scaled_rmse_tuned))"
      ],
      "metadata": {
        "colab": {
          "base_uri": "https://localhost:8080/"
        },
        "id": "8ypNHY0WON6r",
        "outputId": "41b965a4-e6bc-4884-a8ad-e57e737b3563"
      },
      "execution_count": 111,
      "outputs": [
        {
          "output_type": "stream",
          "name": "stdout",
          "text": [
            "scaled_rmse base  :0.0566\n"
          ]
        }
      ]
    },
    {
      "cell_type": "code",
      "source": [
        "from pprint import pprint\n",
        "print('Parameters currently in use:\\n')\n",
        "pprint(rf_model_base.get_params())"
      ],
      "metadata": {
        "colab": {
          "base_uri": "https://localhost:8080/"
        },
        "id": "7yGUhrlMr8qM",
        "outputId": "7d17409d-650c-403f-a21e-48ca80e825ad"
      },
      "execution_count": 94,
      "outputs": [
        {
          "output_type": "stream",
          "name": "stdout",
          "text": [
            "Parameters currently in use:\n",
            "\n",
            "{'bootstrap': True,\n",
            " 'ccp_alpha': 0.0,\n",
            " 'criterion': 'squared_error',\n",
            " 'max_depth': None,\n",
            " 'max_features': 'auto',\n",
            " 'max_leaf_nodes': None,\n",
            " 'max_samples': None,\n",
            " 'min_impurity_decrease': 0.0,\n",
            " 'min_samples_leaf': 1,\n",
            " 'min_samples_split': 2,\n",
            " 'min_weight_fraction_leaf': 0.0,\n",
            " 'n_estimators': 1000,\n",
            " 'n_jobs': None,\n",
            " 'oob_score': False,\n",
            " 'random_state': None,\n",
            " 'verbose': 0,\n",
            " 'warm_start': False}\n"
          ]
        }
      ]
    },
    {
      "cell_type": "markdown",
      "source": [
        "# ***Hyperparameter tuning***"
      ],
      "metadata": {
        "id": "697UaXYx_yGp"
      }
    },
    {
      "cell_type": "code",
      "source": [
        "from sklearn.model_selection import RandomizedSearchCV\n",
        "n_estimators = [100, 500, 900, 1100, 1500]\n",
        "max_features = ['auto', 'sqrt']\n",
        "max_depth = [2, 3, 5, 10, 15]\n",
        "min_samples_split = [2, 5, 10]\n",
        "min_samples_leaf = [1, 2, 4]\n",
        "bootstrap = [True, False]"
      ],
      "metadata": {
        "id": "NhQr-JFS_xSJ"
      },
      "execution_count": 95,
      "outputs": []
    },
    {
      "cell_type": "code",
      "source": [
        "random_grid = {'n_estimators': n_estimators,\n",
        "               'max_features': max_features,\n",
        "               'max_depth': max_depth,\n",
        "               'min_samples_split': min_samples_split,\n",
        "               'min_samples_leaf': min_samples_leaf,\n",
        "               'bootstrap': bootstrap}"
      ],
      "metadata": {
        "id": "PMMJ244L_4gP"
      },
      "execution_count": 96,
      "outputs": []
    },
    {
      "cell_type": "code",
      "source": [
        "pprint(random_grid)"
      ],
      "metadata": {
        "id": "eLp9MUwz_-fj",
        "colab": {
          "base_uri": "https://localhost:8080/"
        },
        "outputId": "71463f65-23f1-4e39-e4f2-6265b8ba103d"
      },
      "execution_count": 97,
      "outputs": [
        {
          "output_type": "stream",
          "name": "stdout",
          "text": [
            "{'bootstrap': [True, False],\n",
            " 'max_depth': [2, 3, 5, 10, 15],\n",
            " 'max_features': ['auto', 'sqrt'],\n",
            " 'min_samples_leaf': [1, 2, 4],\n",
            " 'min_samples_split': [2, 5, 10],\n",
            " 'n_estimators': [100, 500, 900, 1100, 1500]}\n"
          ]
        }
      ]
    },
    {
      "cell_type": "code",
      "source": [
        "rf_model2=RandomForestRegressor()"
      ],
      "metadata": {
        "id": "yefUMDLxADoK"
      },
      "execution_count": 98,
      "outputs": []
    },
    {
      "cell_type": "code",
      "source": [
        "rf_random = RandomizedSearchCV(estimator = rf_model2, param_distributions = random_grid, n_iter = 100, cv = 3, verbose=2, random_state=42, n_jobs = -1)"
      ],
      "metadata": {
        "id": "JgHU-qEtrjRf"
      },
      "execution_count": 99,
      "outputs": []
    },
    {
      "cell_type": "code",
      "source": [
        "rf_random.fit(train_X,train_Y)"
      ],
      "metadata": {
        "colab": {
          "base_uri": "https://localhost:8080/"
        },
        "id": "Tpnan1yXrqMy",
        "outputId": "2f032420-eedd-4a17-8fd0-cd0a9770dfb0"
      },
      "execution_count": 100,
      "outputs": [
        {
          "output_type": "stream",
          "name": "stdout",
          "text": [
            "Fitting 3 folds for each of 100 candidates, totalling 300 fits\n"
          ]
        },
        {
          "output_type": "execute_result",
          "data": {
            "text/plain": [
              "RandomizedSearchCV(cv=3, estimator=RandomForestRegressor(), n_iter=100,\n",
              "                   n_jobs=-1,\n",
              "                   param_distributions={'bootstrap': [True, False],\n",
              "                                        'max_depth': [2, 3, 5, 10, 15],\n",
              "                                        'max_features': ['auto', 'sqrt'],\n",
              "                                        'min_samples_leaf': [1, 2, 4],\n",
              "                                        'min_samples_split': [2, 5, 10],\n",
              "                                        'n_estimators': [100, 500, 900, 1100,\n",
              "                                                         1500]},\n",
              "                   random_state=42, verbose=2)"
            ]
          },
          "metadata": {},
          "execution_count": 100
        }
      ]
    },
    {
      "cell_type": "code",
      "source": [
        "rf_random.best_params_"
      ],
      "metadata": {
        "colab": {
          "base_uri": "https://localhost:8080/"
        },
        "id": "A0drv4Awrr3c",
        "outputId": "20192b04-c2c8-44fe-cd7e-c74edd100704"
      },
      "execution_count": 101,
      "outputs": [
        {
          "output_type": "execute_result",
          "data": {
            "text/plain": [
              "{'bootstrap': True,\n",
              " 'max_depth': 15,\n",
              " 'max_features': 'auto',\n",
              " 'min_samples_leaf': 1,\n",
              " 'min_samples_split': 10,\n",
              " 'n_estimators': 100}"
            ]
          },
          "metadata": {},
          "execution_count": 101
        }
      ]
    },
    {
      "cell_type": "code",
      "source": [
        "rf_model_tuned=RandomForestRegressor(bootstrap=True, max_depth=15, max_features='auto', min_samples_leaf=1, min_samples_split= 10, n_estimators= 100)\n",
        "rf_model_tuned.fit(train_X,train_Y)"
      ],
      "metadata": {
        "colab": {
          "base_uri": "https://localhost:8080/"
        },
        "id": "OS-KfIs0rtfE",
        "outputId": "463aa35b-3f55-46b3-e4f5-6a8629f034ce"
      },
      "execution_count": 102,
      "outputs": [
        {
          "output_type": "execute_result",
          "data": {
            "text/plain": [
              "RandomForestRegressor(max_depth=15, min_samples_split=10)"
            ]
          },
          "metadata": {},
          "execution_count": 102
        }
      ]
    },
    {
      "cell_type": "code",
      "source": [
        "pred_rf_tuned=rf_model_tuned.predict(test_X)\n",
        "pred_rf_tuned=pred_rf_tuned.reshape(-1,1)"
      ],
      "metadata": {
        "id": "34cIQXN0rvOF"
      },
      "execution_count": 103,
      "outputs": []
    },
    {
      "cell_type": "code",
      "source": [
        "import matplotlib.pyplot as plt\n",
        "plt.rcParams[\"figure.figsize\"] = (30,10)\n",
        "plt.plot(pred_rf_tuned,label='Random forest tuned predictions')\n",
        "plt.plot(test_Y,label='next day bitcoin price')\n",
        "plt.legend(loc=\"upper left\")\n",
        "plt.show()"
      ],
      "metadata": {
        "colab": {
          "base_uri": "https://localhost:8080/",
          "height": 432
        },
        "id": "1jsgPrxIAtNt",
        "outputId": "ef1cd0af-8e8b-42de-fd19-059cfaf5b9d5"
      },
      "execution_count": 104,
      "outputs": [
        {
          "output_type": "display_data",
          "data": {
            "text/plain": [
              "<Figure size 2160x720 with 1 Axes>"
            ],
            "image/png": "[encoded data removed]"
          },
          "metadata": {
            "needs_background": "light"
          }
        }
      ]
    },
    {
      "cell_type": "code",
      "source": [
        "mape_tuned = mean_absolute_percentage_error(test_Y,pred_rf_tuned)\n",
        "mae_tuned,rmse_tuned,mse_tuned,r2_tuned=calculate_metrics(test_Y,pred_rf_tuned)\n",
        "print('Results of Random forest model after tuning')\n",
        "print('MAPE  :{:0.4f}'.format(mape_tuned))\n",
        "print('MAE  :{:0.4f}'.format(mae_tuned))\n",
        "print('RMSE :{:0.4f} '.format(rmse_tuned))\n",
        "print('MSE :{:0.4f} '.format(mse_tuned))\n",
        "print('r2   :{:0.4f}'.format(r2_tuned))"
      ],
      "metadata": {
        "colab": {
          "base_uri": "https://localhost:8080/"
        },
        "id": "BesfNAq0A2dB",
        "outputId": "ad463ebc-193e-4a46-a03c-d8d923e279e1"
      },
      "execution_count": 105,
      "outputs": [
        {
          "output_type": "stream",
          "name": "stdout",
          "text": [
            "mape---5.627191249931175\n",
            "Results of Random forest model after tuning\n",
            "MAPE  :5.6272\n",
            "MAE  :2214.4480\n",
            "RMSE :2717.5000 \n",
            "MSE :7384806.0273 \n",
            "r2   :0.9429\n"
          ]
        }
      ]
    },
    {
      "cell_type": "code",
      "source": [
        "print('mean of test Y   :{:0.4f}'.format(test_Y.mean()))\n",
        "print('max of test Y   :{:0.4f}'.format(test_Y.max()))\n",
        "print('min of test Y   :{:0.4f}'.format(test_Y.min()))"
      ],
      "metadata": {
        "colab": {
          "base_uri": "https://localhost:8080/"
        },
        "id": "L7LkxR9nNqHB",
        "outputId": "6d369ecf-db90-46cb-e85f-6f70a5c7820c"
      },
      "execution_count": 106,
      "outputs": [
        {
          "output_type": "stream",
          "name": "stdout",
          "text": [
            "mean of test Y   :42215.6181\n",
            "max of test Y   :67734.0400\n",
            "min of test Y   :17785.0900\n"
          ]
        }
      ]
    },
    {
      "cell_type": "code",
      "source": [
        "scaled_rmse_tuned=rmse_tuned/(test_Y.max()-test_Y.min())\n",
        "print('scaled_rmse tuned  :{:0.4f}'.format(scaled_rmse_tuned))"
      ],
      "metadata": {
        "colab": {
          "base_uri": "https://localhost:8080/"
        },
        "id": "sXCPpdqWNwhL",
        "outputId": "07a85d6e-6285-46a2-99ce-889013a0850e"
      },
      "execution_count": 108,
      "outputs": [
        {
          "output_type": "stream",
          "name": "stdout",
          "text": [
            "scaled_rmse tuned  :0.0544\n"
          ]
        }
      ]
    }
  ]
}