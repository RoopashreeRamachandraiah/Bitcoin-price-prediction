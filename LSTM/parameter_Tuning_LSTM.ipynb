{
  "nbformat": 4,
  "nbformat_minor": 0,
  "metadata": {
    "colab": {
      "provenance": [],
      "collapsed_sections": []
    },
    "kernelspec": {
      "name": "python3",
      "display_name": "Python 3"
    },
    "language_info": {
      "name": "python"
    }
  },
  "cells": [
    {
      "cell_type": "code",
      "source": [
        "!pip3 install keras-tuner --upgrade"
      ],
      "metadata": {
        "id": "_Tr7w2ug2EJ4"
      },
      "execution_count": null,
      "outputs": []
    },
    {
      "cell_type": "code",
      "execution_count": null,
      "metadata": {
        "id": "wbZ41BPz-cMe"
      },
      "outputs": [],
      "source": [
        "import numpy as np\n",
        "import keras_tuner\n",
        "from keras.models import Sequential\n",
        "from keras.layers import LSTM\n",
        "from keras.layers import Dense, Dropout\n",
        "import tensorflow as tf\n",
        "import sklearn.metrics as metrics\n",
        "import pandas as pd\n",
        "from matplotlib import pyplot as plt\n",
        "from sklearn.preprocessing import StandardScaler\n",
        "import seaborn as sns"
      ]
    },
    {
      "cell_type": "code",
      "source": [
        "price_usd_df=pd.read_excel(\"/content/drive/MyDrive/Dissertation/My Dissertation/Data/Pre-processed results/Removed missing values.xlsx\")\n",
        "\n",
        "print(price_usd_df.dtypes)\n",
        "price_usd_df.head(21)\n",
        "df=price_usd_df"
      ],
      "metadata": {
        "colab": {
          "base_uri": "https://localhost:8080/"
        },
        "id": "iHUjPb76-f4b",
        "outputId": "8cd749e3-a741-44f5-8d60-9321622a6f2e"
      },
      "execution_count": null,
      "outputs": [
        {
          "output_type": "stream",
          "name": "stdout",
          "text": [
            "Date      datetime64[ns]\n",
            "XBTUSD           float64\n",
            "AUDUSD           float64\n",
            "CADUSD           float64\n",
            "CNYUSD           float64\n",
            "EURUSD           float64\n",
            "GBPUSD           float64\n",
            "JPYUSD           float64\n",
            "NZDUSD           float64\n",
            "SGDUSD           float64\n",
            "dtype: object\n"
          ]
        }
      ]
    },
    {
      "cell_type": "code",
      "source": [
        "def mean_absolute_percentage_error(y_test,y_pred):\n",
        "    y_test = np.array(y_test)\n",
        "    y_pred = np.array(y_pred)\n",
        "    errors = abs(y_test - y_pred)\n",
        "    mape = 100 * np.mean(errors / y_test)\n",
        "    print('mape---{}'.format(mape))\n",
        "    mape1= np.mean(np.abs((y_test - y_pred) / y_test)) * 100\n",
        "    \n",
        "    return mape"
      ],
      "metadata": {
        "id": "y1bFGgFYBw8g"
      },
      "execution_count": null,
      "outputs": []
    },
    {
      "cell_type": "code",
      "source": [
        "def calculate_metrics(y, ypred):\n",
        "    MAE = metrics.mean_absolute_error(y, ypred)\n",
        "    RMSE = metrics.mean_squared_error(y, ypred,squared=False)\n",
        "    mse=metrics.mean_squared_error(y,ypred)\n",
        "    r2=metrics.r2_score(y,ypred)\n",
        "\n",
        "    return MAE,RMSE,mse,r2"
      ],
      "metadata": {
        "id": "TDkjasveBy8P"
      },
      "execution_count": null,
      "outputs": []
    },
    {
      "cell_type": "code",
      "source": [
        "dates=df['Date'].values"
      ],
      "metadata": {
        "id": "b82O6HgZ_CNB"
      },
      "execution_count": null,
      "outputs": []
    },
    {
      "cell_type": "code",
      "source": [
        "cols = list(df)[1:]\n",
        "cols"
      ],
      "metadata": {
        "colab": {
          "base_uri": "https://localhost:8080/"
        },
        "id": "4EBv14eu_Ed_",
        "outputId": "8073ce08-c34d-43d4-8fe9-c0030d1a071d"
      },
      "execution_count": null,
      "outputs": [
        {
          "output_type": "execute_result",
          "data": {
            "text/plain": [
              "['XBTUSD',\n",
              " 'AUDUSD',\n",
              " 'CADUSD',\n",
              " 'CNYUSD',\n",
              " 'EURUSD',\n",
              " 'GBPUSD',\n",
              " 'JPYUSD',\n",
              " 'NZDUSD',\n",
              " 'SGDUSD']"
            ]
          },
          "metadata": {},
          "execution_count": 7
        }
      ]
    },
    {
      "cell_type": "code",
      "source": [
        "df1=df[cols]"
      ],
      "metadata": {
        "id": "ilYcXnGo_SML"
      },
      "execution_count": null,
      "outputs": []
    },
    {
      "cell_type": "code",
      "source": [
        "df1"
      ],
      "metadata": {
        "colab": {
          "base_uri": "https://localhost:8080/",
          "height": 423
        },
        "id": "BhxJ8PW__YS2",
        "outputId": "43f6aceb-30bd-4110-f0d2-7f61ea7db126"
      },
      "execution_count": null,
      "outputs": [
        {
          "output_type": "execute_result",
          "data": {
            "text/plain": [
              "        XBTUSD  AUDUSD  CADUSD   CNYUSD  EURUSD  GBPUSD    JPYUSD  NZDUSD  \\\n",
              "0      1024.38  0.7219  0.7448  0.14385  1.0405  1.2237  0.008493  0.6918   \n",
              "1      1091.66  0.7283  0.7519  0.14504  1.0489  1.2323  0.008529  0.6970   \n",
              "2       971.26  0.7338  0.7562  0.14547  1.0607  1.2419  0.008669  0.7026   \n",
              "3       898.16  0.7301  0.7555  0.14424  1.0532  1.2287  0.008547  0.6960   \n",
              "4       917.41  0.7301  0.7555  0.14424  1.0532  1.2287  0.008547  0.6960   \n",
              "...        ...     ...     ...      ...     ...     ...       ...     ...   \n",
              "1831  20930.58  0.6793  0.7678  0.14799  1.0080  1.1855  0.007220  0.6165   \n",
              "1832  21487.97  0.6812  0.7701  0.14830  1.0143  1.1953  0.007240  0.6154   \n",
              "1833  23304.71  0.6897  0.7770  0.14827  1.0227  1.1995  0.007236  0.6225   \n",
              "1834  23258.12  0.6888  0.7762  0.14805  1.0180  1.1973  0.007235  0.6239   \n",
              "1835  22848.73  0.6874  0.7748  0.14787  1.0199  1.1943  0.007211  0.6202   \n",
              "\n",
              "      SGDUSD  \n",
              "0     0.6895  \n",
              "1     0.6948  \n",
              "2     0.7001  \n",
              "3     0.6950  \n",
              "4     0.6950  \n",
              "...      ...  \n",
              "1831  0.7144  \n",
              "1832  0.7156  \n",
              "1833  0.7181  \n",
              "1834  0.7176  \n",
              "1835  0.7185  \n",
              "\n",
              "[1836 rows x 9 columns]"
            ],
            "text/html": [
              "\n",
              "  <div id=\"df-8edda78e-45f5-4c6c-967e-ffa93942892f\">\n",
              "    <div class=\"colab-df-container\">\n",
              "      <div>\n",
              "<style scoped>\n",
              "    .dataframe tbody tr th:only-of-type {\n",
              "        vertical-align: middle;\n",
              "    }\n",
              "\n",
              "    .dataframe tbody tr th {\n",
              "        vertical-align: top;\n",
              "    }\n",
              "\n",
              "    .dataframe thead th {\n",
              "        text-align: right;\n",
              "    }\n",
              "</style>\n",
              "<table border=\"1\" class=\"dataframe\">\n",
              "  <thead>\n",
              "    <tr style=\"text-align: right;\">\n",
              "      <th></th>\n",
              "      <th>XBTUSD</th>\n",
              "      <th>AUDUSD</th>\n",
              "      <th>CADUSD</th>\n",
              "      <th>CNYUSD</th>\n",
              "      <th>EURUSD</th>\n",
              "      <th>GBPUSD</th>\n",
              "      <th>JPYUSD</th>\n",
              "      <th>NZDUSD</th>\n",
              "      <th>SGDUSD</th>\n",
              "    </tr>\n",
              "  </thead>\n",
              "  <tbody>\n",
              "    <tr>\n",
              "      <th>0</th>\n",
              "      <td>1024.38</td>\n",
              "      <td>0.7219</td>\n",
              "      <td>0.7448</td>\n",
              "      <td>0.14385</td>\n",
              "      <td>1.0405</td>\n",
              "      <td>1.2237</td>\n",
              "      <td>0.008493</td>\n",
              "      <td>0.6918</td>\n",
              "      <td>0.6895</td>\n",
              "    </tr>\n",
              "    <tr>\n",
              "      <th>1</th>\n",
              "      <td>1091.66</td>\n",
              "      <td>0.7283</td>\n",
              "      <td>0.7519</td>\n",
              "      <td>0.14504</td>\n",
              "      <td>1.0489</td>\n",
              "      <td>1.2323</td>\n",
              "      <td>0.008529</td>\n",
              "      <td>0.6970</td>\n",
              "      <td>0.6948</td>\n",
              "    </tr>\n",
              "    <tr>\n",
              "      <th>2</th>\n",
              "      <td>971.26</td>\n",
              "      <td>0.7338</td>\n",
              "      <td>0.7562</td>\n",
              "      <td>0.14547</td>\n",
              "      <td>1.0607</td>\n",
              "      <td>1.2419</td>\n",
              "      <td>0.008669</td>\n",
              "      <td>0.7026</td>\n",
              "      <td>0.7001</td>\n",
              "    </tr>\n",
              "    <tr>\n",
              "      <th>3</th>\n",
              "      <td>898.16</td>\n",
              "      <td>0.7301</td>\n",
              "      <td>0.7555</td>\n",
              "      <td>0.14424</td>\n",
              "      <td>1.0532</td>\n",
              "      <td>1.2287</td>\n",
              "      <td>0.008547</td>\n",
              "      <td>0.6960</td>\n",
              "      <td>0.6950</td>\n",
              "    </tr>\n",
              "    <tr>\n",
              "      <th>4</th>\n",
              "      <td>917.41</td>\n",
              "      <td>0.7301</td>\n",
              "      <td>0.7555</td>\n",
              "      <td>0.14424</td>\n",
              "      <td>1.0532</td>\n",
              "      <td>1.2287</td>\n",
              "      <td>0.008547</td>\n",
              "      <td>0.6960</td>\n",
              "      <td>0.6950</td>\n",
              "    </tr>\n",
              "    <tr>\n",
              "      <th>...</th>\n",
              "      <td>...</td>\n",
              "      <td>...</td>\n",
              "      <td>...</td>\n",
              "      <td>...</td>\n",
              "      <td>...</td>\n",
              "      <td>...</td>\n",
              "      <td>...</td>\n",
              "      <td>...</td>\n",
              "      <td>...</td>\n",
              "    </tr>\n",
              "    <tr>\n",
              "      <th>1831</th>\n",
              "      <td>20930.58</td>\n",
              "      <td>0.6793</td>\n",
              "      <td>0.7678</td>\n",
              "      <td>0.14799</td>\n",
              "      <td>1.0080</td>\n",
              "      <td>1.1855</td>\n",
              "      <td>0.007220</td>\n",
              "      <td>0.6165</td>\n",
              "      <td>0.7144</td>\n",
              "    </tr>\n",
              "    <tr>\n",
              "      <th>1832</th>\n",
              "      <td>21487.97</td>\n",
              "      <td>0.6812</td>\n",
              "      <td>0.7701</td>\n",
              "      <td>0.14830</td>\n",
              "      <td>1.0143</td>\n",
              "      <td>1.1953</td>\n",
              "      <td>0.007240</td>\n",
              "      <td>0.6154</td>\n",
              "      <td>0.7156</td>\n",
              "    </tr>\n",
              "    <tr>\n",
              "      <th>1833</th>\n",
              "      <td>23304.71</td>\n",
              "      <td>0.6897</td>\n",
              "      <td>0.7770</td>\n",
              "      <td>0.14827</td>\n",
              "      <td>1.0227</td>\n",
              "      <td>1.1995</td>\n",
              "      <td>0.007236</td>\n",
              "      <td>0.6225</td>\n",
              "      <td>0.7181</td>\n",
              "    </tr>\n",
              "    <tr>\n",
              "      <th>1834</th>\n",
              "      <td>23258.12</td>\n",
              "      <td>0.6888</td>\n",
              "      <td>0.7762</td>\n",
              "      <td>0.14805</td>\n",
              "      <td>1.0180</td>\n",
              "      <td>1.1973</td>\n",
              "      <td>0.007235</td>\n",
              "      <td>0.6239</td>\n",
              "      <td>0.7176</td>\n",
              "    </tr>\n",
              "    <tr>\n",
              "      <th>1835</th>\n",
              "      <td>22848.73</td>\n",
              "      <td>0.6874</td>\n",
              "      <td>0.7748</td>\n",
              "      <td>0.14787</td>\n",
              "      <td>1.0199</td>\n",
              "      <td>1.1943</td>\n",
              "      <td>0.007211</td>\n",
              "      <td>0.6202</td>\n",
              "      <td>0.7185</td>\n",
              "    </tr>\n",
              "  </tbody>\n",
              "</table>\n",
              "<p>1836 rows × 9 columns</p>\n",
              "</div>\n",
              "      <button class=\"colab-df-convert\" onclick=\"convertToInteractive('df-8edda78e-45f5-4c6c-967e-ffa93942892f')\"\n",
              "              title=\"Convert this dataframe to an interactive table.\"\n",
              "              style=\"display:none;\">\n",
              "        \n",
              "  <svg xmlns=\"http://www.w3.org/2000/svg\" height=\"24px\"viewBox=\"0 0 24 24\"\n",
              "       width=\"24px\">\n",
              "    <path d=\"M0 0h24v24H0V0z\" fill=\"none\"/>\n",
              "    <path d=\"M18.56 5.44l.94 2.06.94-2.06 2.06-.94-2.06-.94-.94-2.06-.94 2.06-2.06.94zm-11 1L8.5 8.5l.94-2.06 2.06-.94-2.06-.94L8.5 2.5l-.94 2.06-2.06.94zm10 10l.94 2.06.94-2.06 2.06-.94-2.06-.94-.94-2.06-.94 2.06-2.06.94z\"/><path d=\"M17.41 7.96l-1.37-1.37c-.4-.4-.92-.59-1.43-.59-.52 0-1.04.2-1.43.59L10.3 9.45l-7.72 7.72c-.78.78-.78 2.05 0 2.83L4 21.41c.39.39.9.59 1.41.59.51 0 1.02-.2 1.41-.59l7.78-7.78 2.81-2.81c.8-.78.8-2.07 0-2.86zM5.41 20L4 18.59l7.72-7.72 1.47 1.35L5.41 20z\"/>\n",
              "  </svg>\n",
              "      </button>\n",
              "      \n",
              "  <style>\n",
              "    .colab-df-container {\n",
              "      display:flex;\n",
              "      flex-wrap:wrap;\n",
              "      gap: 12px;\n",
              "    }\n",
              "\n",
              "    .colab-df-convert {\n",
              "      background-color: #E8F0FE;\n",
              "      border: none;\n",
              "      border-radius: 50%;\n",
              "      cursor: pointer;\n",
              "      display: none;\n",
              "      fill: #1967D2;\n",
              "      height: 32px;\n",
              "      padding: 0 0 0 0;\n",
              "      width: 32px;\n",
              "    }\n",
              "\n",
              "    .colab-df-convert:hover {\n",
              "      background-color: #E2EBFA;\n",
              "      box-shadow: 0px 1px 2px rgba(60, 64, 67, 0.3), 0px 1px 3px 1px rgba(60, 64, 67, 0.15);\n",
              "      fill: #174EA6;\n",
              "    }\n",
              "\n",
              "    [theme=dark] .colab-df-convert {\n",
              "      background-color: #3B4455;\n",
              "      fill: #D2E3FC;\n",
              "    }\n",
              "\n",
              "    [theme=dark] .colab-df-convert:hover {\n",
              "      background-color: #434B5C;\n",
              "      box-shadow: 0px 1px 3px 1px rgba(0, 0, 0, 0.15);\n",
              "      filter: drop-shadow(0px 1px 2px rgba(0, 0, 0, 0.3));\n",
              "      fill: #FFFFFF;\n",
              "    }\n",
              "  </style>\n",
              "\n",
              "      <script>\n",
              "        const buttonEl =\n",
              "          document.querySelector('#df-8edda78e-45f5-4c6c-967e-ffa93942892f button.colab-df-convert');\n",
              "        buttonEl.style.display =\n",
              "          google.colab.kernel.accessAllowed ? 'block' : 'none';\n",
              "\n",
              "        async function convertToInteractive(key) {\n",
              "          const element = document.querySelector('#df-8edda78e-45f5-4c6c-967e-ffa93942892f');\n",
              "          const dataTable =\n",
              "            await google.colab.kernel.invokeFunction('convertToInteractive',\n",
              "                                                     [key], {});\n",
              "          if (!dataTable) return;\n",
              "\n",
              "          const docLinkHtml = 'Like what you see? Visit the ' +\n",
              "            '<a target=\"_blank\" href=https://colab.research.google.com/notebooks/data_table.ipynb>data table notebook</a>'\n",
              "            + ' to learn more about interactive tables.';\n",
              "          element.innerHTML = '';\n",
              "          dataTable['output_type'] = 'display_data';\n",
              "          await google.colab.output.renderOutput(dataTable, element);\n",
              "          const docLink = document.createElement('div');\n",
              "          docLink.innerHTML = docLinkHtml;\n",
              "          element.appendChild(docLink);\n",
              "        }\n",
              "      </script>\n",
              "    </div>\n",
              "  </div>\n",
              "  "
            ]
          },
          "metadata": {},
          "execution_count": 9
        }
      ]
    },
    {
      "cell_type": "code",
      "source": [
        "df1_scaled=df1.values"
      ],
      "metadata": {
        "id": "ZgvurGDS_Y2_"
      },
      "execution_count": null,
      "outputs": []
    },
    {
      "cell_type": "code",
      "source": [
        "def series_to_supervised(data, n_in=1, n_out=1, dropnan=True):\n",
        "\tn_vars = 1 if type(data) is list else data.shape[1]\n",
        "\tdf = pd.DataFrame(data)\n",
        "\tcols, names = list(), list()\n",
        "\t# input sequence (t-n, ... t-1)\n",
        "\tfor i in range(n_in, 0, -1):\n",
        "\t\tcols.append(df.shift(i))\n",
        "\t\tnames += [('var%d(t-%d)' % (j+1, i)) for j in range(n_vars)]\n",
        "\t# forecast sequence (t, t+1, ... t+n)\n",
        "\tfor i in range(0, n_out):\n",
        "\t\tcols.append(df.shift(-i))\n",
        "\t\tif i == 0:\n",
        "\t\t\tnames += [('var%d(t)' % (j+1)) for j in range(n_vars)]\n",
        "\t\telse:\n",
        "\t\t\tnames += [('var%d(t+%d)' % (j+1, i)) for j in range(n_vars)]\n",
        "\t# put it all together\n",
        "\tagg = pd.concat(cols, axis=1)\n",
        "\tagg.columns = names\n",
        "\t# drop rows with NaN values\n",
        "\tif dropnan:\n",
        "\t\tagg.dropna(inplace=True)\n",
        "\treturn agg"
      ],
      "metadata": {
        "id": "Ltd3ewUVnDnv"
      },
      "execution_count": null,
      "outputs": []
    },
    {
      "cell_type": "code",
      "source": [
        "lag = 7 #adding 3 hours lags creating number of observations \n",
        "n_features = 9 #Features in the dataset.\n",
        "n_obs = lag*n_features\n"
      ],
      "metadata": {
        "id": "EKHMvA6__gb_"
      },
      "execution_count": null,
      "outputs": []
    },
    {
      "cell_type": "code",
      "source": [
        "reframed = series_to_supervised(df1_scaled, lag, 1)\n",
        "reframed.head()"
      ],
      "metadata": {
        "colab": {
          "base_uri": "https://localhost:8080/",
          "height": 317
        },
        "id": "SSlzQ32Iqq9E",
        "outputId": "479699a1-ece1-4d75-a151-6df74669344a"
      },
      "execution_count": null,
      "outputs": [
        {
          "output_type": "execute_result",
          "data": {
            "text/plain": [
              "    var1(t-7)  var2(t-7)  var3(t-7)  var4(t-7)  var5(t-7)  var6(t-7)  \\\n",
              "7     1024.38     0.7219     0.7448    0.14385     1.0405     1.2237   \n",
              "8     1091.66     0.7283     0.7519    0.14504     1.0489     1.2323   \n",
              "9      971.26     0.7338     0.7562    0.14547     1.0607     1.2419   \n",
              "10     898.16     0.7301     0.7555    0.14424     1.0532     1.2287   \n",
              "11     917.41     0.7301     0.7555    0.14424     1.0532     1.2287   \n",
              "\n",
              "    var7(t-7)  var8(t-7)  var9(t-7)  var1(t-6)  ...  var9(t-1)  var1(t)  \\\n",
              "7    0.008493     0.6918     0.6895    1091.66  ...     0.6963   789.11   \n",
              "8    0.008529     0.6970     0.6948     971.26  ...     0.7008   827.63   \n",
              "9    0.008669     0.7026     0.7001     898.16  ...     0.7006   830.70   \n",
              "10   0.008547     0.6960     0.6950     917.41  ...     0.6998   822.20   \n",
              "11   0.008547     0.6960     0.6950     897.51  ...     0.6998   833.10   \n",
              "\n",
              "    var2(t)  var3(t)  var4(t)  var5(t)  var6(t)   var7(t)  var8(t)  var9(t)  \n",
              "7    0.7441   0.7589  0.14471   1.0582   1.2213  0.008665   0.7055   0.7008  \n",
              "8    0.7484   0.7608  0.14515   1.0613   1.2162  0.008717   0.7095   0.7006  \n",
              "9    0.7502   0.7625  0.14506   1.0643   1.2182  0.008733   0.7131   0.6998  \n",
              "10   0.7502   0.7625  0.14506   1.0643   1.2182  0.008733   0.7131   0.6998  \n",
              "11   0.7477   0.7589  0.14506   1.0601   1.2047  0.008757   0.7103   0.6991  \n",
              "\n",
              "[5 rows x 72 columns]"
            ],
            "text/html": [
              "\n",
              "  <div id=\"df-3b686b6e-f1a7-4a80-b3ea-38c0cbdad909\">\n",
              "    <div class=\"colab-df-container\">\n",
              "      <div>\n",
              "<style scoped>\n",
              "    .dataframe tbody tr th:only-of-type {\n",
              "        vertical-align: middle;\n",
              "    }\n",
              "\n",
              "    .dataframe tbody tr th {\n",
              "        vertical-align: top;\n",
              "    }\n",
              "\n",
              "    .dataframe thead th {\n",
              "        text-align: right;\n",
              "    }\n",
              "</style>\n",
              "<table border=\"1\" class=\"dataframe\">\n",
              "  <thead>\n",
              "    <tr style=\"text-align: right;\">\n",
              "      <th></th>\n",
              "      <th>var1(t-7)</th>\n",
              "      <th>var2(t-7)</th>\n",
              "      <th>var3(t-7)</th>\n",
              "      <th>var4(t-7)</th>\n",
              "      <th>var5(t-7)</th>\n",
              "      <th>var6(t-7)</th>\n",
              "      <th>var7(t-7)</th>\n",
              "      <th>var8(t-7)</th>\n",
              "      <th>var9(t-7)</th>\n",
              "      <th>var1(t-6)</th>\n",
              "      <th>...</th>\n",
              "      <th>var9(t-1)</th>\n",
              "      <th>var1(t)</th>\n",
              "      <th>var2(t)</th>\n",
              "      <th>var3(t)</th>\n",
              "      <th>var4(t)</th>\n",
              "      <th>var5(t)</th>\n",
              "      <th>var6(t)</th>\n",
              "      <th>var7(t)</th>\n",
              "      <th>var8(t)</th>\n",
              "      <th>var9(t)</th>\n",
              "    </tr>\n",
              "  </thead>\n",
              "  <tbody>\n",
              "    <tr>\n",
              "      <th>7</th>\n",
              "      <td>1024.38</td>\n",
              "      <td>0.7219</td>\n",
              "      <td>0.7448</td>\n",
              "      <td>0.14385</td>\n",
              "      <td>1.0405</td>\n",
              "      <td>1.2237</td>\n",
              "      <td>0.008493</td>\n",
              "      <td>0.6918</td>\n",
              "      <td>0.6895</td>\n",
              "      <td>1091.66</td>\n",
              "      <td>...</td>\n",
              "      <td>0.6963</td>\n",
              "      <td>789.11</td>\n",
              "      <td>0.7441</td>\n",
              "      <td>0.7589</td>\n",
              "      <td>0.14471</td>\n",
              "      <td>1.0582</td>\n",
              "      <td>1.2213</td>\n",
              "      <td>0.008665</td>\n",
              "      <td>0.7055</td>\n",
              "      <td>0.7008</td>\n",
              "    </tr>\n",
              "    <tr>\n",
              "      <th>8</th>\n",
              "      <td>1091.66</td>\n",
              "      <td>0.7283</td>\n",
              "      <td>0.7519</td>\n",
              "      <td>0.14504</td>\n",
              "      <td>1.0489</td>\n",
              "      <td>1.2323</td>\n",
              "      <td>0.008529</td>\n",
              "      <td>0.6970</td>\n",
              "      <td>0.6948</td>\n",
              "      <td>971.26</td>\n",
              "      <td>...</td>\n",
              "      <td>0.7008</td>\n",
              "      <td>827.63</td>\n",
              "      <td>0.7484</td>\n",
              "      <td>0.7608</td>\n",
              "      <td>0.14515</td>\n",
              "      <td>1.0613</td>\n",
              "      <td>1.2162</td>\n",
              "      <td>0.008717</td>\n",
              "      <td>0.7095</td>\n",
              "      <td>0.7006</td>\n",
              "    </tr>\n",
              "    <tr>\n",
              "      <th>9</th>\n",
              "      <td>971.26</td>\n",
              "      <td>0.7338</td>\n",
              "      <td>0.7562</td>\n",
              "      <td>0.14547</td>\n",
              "      <td>1.0607</td>\n",
              "      <td>1.2419</td>\n",
              "      <td>0.008669</td>\n",
              "      <td>0.7026</td>\n",
              "      <td>0.7001</td>\n",
              "      <td>898.16</td>\n",
              "      <td>...</td>\n",
              "      <td>0.7006</td>\n",
              "      <td>830.70</td>\n",
              "      <td>0.7502</td>\n",
              "      <td>0.7625</td>\n",
              "      <td>0.14506</td>\n",
              "      <td>1.0643</td>\n",
              "      <td>1.2182</td>\n",
              "      <td>0.008733</td>\n",
              "      <td>0.7131</td>\n",
              "      <td>0.6998</td>\n",
              "    </tr>\n",
              "    <tr>\n",
              "      <th>10</th>\n",
              "      <td>898.16</td>\n",
              "      <td>0.7301</td>\n",
              "      <td>0.7555</td>\n",
              "      <td>0.14424</td>\n",
              "      <td>1.0532</td>\n",
              "      <td>1.2287</td>\n",
              "      <td>0.008547</td>\n",
              "      <td>0.6960</td>\n",
              "      <td>0.6950</td>\n",
              "      <td>917.41</td>\n",
              "      <td>...</td>\n",
              "      <td>0.6998</td>\n",
              "      <td>822.20</td>\n",
              "      <td>0.7502</td>\n",
              "      <td>0.7625</td>\n",
              "      <td>0.14506</td>\n",
              "      <td>1.0643</td>\n",
              "      <td>1.2182</td>\n",
              "      <td>0.008733</td>\n",
              "      <td>0.7131</td>\n",
              "      <td>0.6998</td>\n",
              "    </tr>\n",
              "    <tr>\n",
              "      <th>11</th>\n",
              "      <td>917.41</td>\n",
              "      <td>0.7301</td>\n",
              "      <td>0.7555</td>\n",
              "      <td>0.14424</td>\n",
              "      <td>1.0532</td>\n",
              "      <td>1.2287</td>\n",
              "      <td>0.008547</td>\n",
              "      <td>0.6960</td>\n",
              "      <td>0.6950</td>\n",
              "      <td>897.51</td>\n",
              "      <td>...</td>\n",
              "      <td>0.6998</td>\n",
              "      <td>833.10</td>\n",
              "      <td>0.7477</td>\n",
              "      <td>0.7589</td>\n",
              "      <td>0.14506</td>\n",
              "      <td>1.0601</td>\n",
              "      <td>1.2047</td>\n",
              "      <td>0.008757</td>\n",
              "      <td>0.7103</td>\n",
              "      <td>0.6991</td>\n",
              "    </tr>\n",
              "  </tbody>\n",
              "</table>\n",
              "<p>5 rows × 72 columns</p>\n",
              "</div>\n",
              "      <button class=\"colab-df-convert\" onclick=\"convertToInteractive('df-3b686b6e-f1a7-4a80-b3ea-38c0cbdad909')\"\n",
              "              title=\"Convert this dataframe to an interactive table.\"\n",
              "              style=\"display:none;\">\n",
              "        \n",
              "  <svg xmlns=\"http://www.w3.org/2000/svg\" height=\"24px\"viewBox=\"0 0 24 24\"\n",
              "       width=\"24px\">\n",
              "    <path d=\"M0 0h24v24H0V0z\" fill=\"none\"/>\n",
              "    <path d=\"M18.56 5.44l.94 2.06.94-2.06 2.06-.94-2.06-.94-.94-2.06-.94 2.06-2.06.94zm-11 1L8.5 8.5l.94-2.06 2.06-.94-2.06-.94L8.5 2.5l-.94 2.06-2.06.94zm10 10l.94 2.06.94-2.06 2.06-.94-2.06-.94-.94-2.06-.94 2.06-2.06.94z\"/><path d=\"M17.41 7.96l-1.37-1.37c-.4-.4-.92-.59-1.43-.59-.52 0-1.04.2-1.43.59L10.3 9.45l-7.72 7.72c-.78.78-.78 2.05 0 2.83L4 21.41c.39.39.9.59 1.41.59.51 0 1.02-.2 1.41-.59l7.78-7.78 2.81-2.81c.8-.78.8-2.07 0-2.86zM5.41 20L4 18.59l7.72-7.72 1.47 1.35L5.41 20z\"/>\n",
              "  </svg>\n",
              "      </button>\n",
              "      \n",
              "  <style>\n",
              "    .colab-df-container {\n",
              "      display:flex;\n",
              "      flex-wrap:wrap;\n",
              "      gap: 12px;\n",
              "    }\n",
              "\n",
              "    .colab-df-convert {\n",
              "      background-color: #E8F0FE;\n",
              "      border: none;\n",
              "      border-radius: 50%;\n",
              "      cursor: pointer;\n",
              "      display: none;\n",
              "      fill: #1967D2;\n",
              "      height: 32px;\n",
              "      padding: 0 0 0 0;\n",
              "      width: 32px;\n",
              "    }\n",
              "\n",
              "    .colab-df-convert:hover {\n",
              "      background-color: #E2EBFA;\n",
              "      box-shadow: 0px 1px 2px rgba(60, 64, 67, 0.3), 0px 1px 3px 1px rgba(60, 64, 67, 0.15);\n",
              "      fill: #174EA6;\n",
              "    }\n",
              "\n",
              "    [theme=dark] .colab-df-convert {\n",
              "      background-color: #3B4455;\n",
              "      fill: #D2E3FC;\n",
              "    }\n",
              "\n",
              "    [theme=dark] .colab-df-convert:hover {\n",
              "      background-color: #434B5C;\n",
              "      box-shadow: 0px 1px 3px 1px rgba(0, 0, 0, 0.15);\n",
              "      filter: drop-shadow(0px 1px 2px rgba(0, 0, 0, 0.3));\n",
              "      fill: #FFFFFF;\n",
              "    }\n",
              "  </style>\n",
              "\n",
              "      <script>\n",
              "        const buttonEl =\n",
              "          document.querySelector('#df-3b686b6e-f1a7-4a80-b3ea-38c0cbdad909 button.colab-df-convert');\n",
              "        buttonEl.style.display =\n",
              "          google.colab.kernel.accessAllowed ? 'block' : 'none';\n",
              "\n",
              "        async function convertToInteractive(key) {\n",
              "          const element = document.querySelector('#df-3b686b6e-f1a7-4a80-b3ea-38c0cbdad909');\n",
              "          const dataTable =\n",
              "            await google.colab.kernel.invokeFunction('convertToInteractive',\n",
              "                                                     [key], {});\n",
              "          if (!dataTable) return;\n",
              "\n",
              "          const docLinkHtml = 'Like what you see? Visit the ' +\n",
              "            '<a target=\"_blank\" href=https://colab.research.google.com/notebooks/data_table.ipynb>data table notebook</a>'\n",
              "            + ' to learn more about interactive tables.';\n",
              "          element.innerHTML = '';\n",
              "          dataTable['output_type'] = 'display_data';\n",
              "          await google.colab.output.renderOutput(dataTable, element);\n",
              "          const docLink = document.createElement('div');\n",
              "          docLink.innerHTML = docLinkHtml;\n",
              "          element.appendChild(docLink);\n",
              "        }\n",
              "      </script>\n",
              "    </div>\n",
              "  </div>\n",
              "  "
            ]
          },
          "metadata": {},
          "execution_count": 13
        }
      ]
    },
    {
      "cell_type": "code",
      "source": [
        "values = reframed.values\n",
        "split_point = int(0.8*len(values))\n",
        "train = values[:split_point, :]\n",
        "test = values[split_point:, :]\n",
        "train.shape,test.shape"
      ],
      "metadata": {
        "id": "L74MSchx_q12",
        "colab": {
          "base_uri": "https://localhost:8080/"
        },
        "outputId": "cf46d575-e955-46cb-bdb4-4673e4a0cbfd"
      },
      "execution_count": null,
      "outputs": [
        {
          "output_type": "execute_result",
          "data": {
            "text/plain": [
              "((1463, 72), (366, 72))"
            ]
          },
          "metadata": {},
          "execution_count": 14
        }
      ]
    },
    {
      "cell_type": "code",
      "source": [
        "train_X, train_y = train[:, :n_obs], train[:, -n_features]\n",
        "test_X, test_y = test[:, :n_obs], test[:, -n_features]\n"
      ],
      "metadata": {
        "id": "8IPBujT1iuiN"
      },
      "execution_count": null,
      "outputs": []
    },
    {
      "cell_type": "code",
      "source": [
        "train_X = train_X.reshape((train_X.shape[0], lag, n_features))\n",
        "test_X = test_X.reshape((test_X.shape[0], lag, n_features))\n",
        "test_y=test_y.reshape(-1,1)\n",
        "train_y=train_y.reshape(-1,1)\n",
        "print(train_X.shape, train_y.shape, test_X.shape, test_y.shape)"
      ],
      "metadata": {
        "colab": {
          "base_uri": "https://localhost:8080/"
        },
        "id": "eOvJaLK_oHd0",
        "outputId": "92eaae05-f86e-403b-b379-77b95c84f134"
      },
      "execution_count": null,
      "outputs": [
        {
          "output_type": "stream",
          "name": "stdout",
          "text": [
            "(1463, 7, 9) (1463, 1) (366, 7, 9) (366, 1)\n"
          ]
        }
      ]
    },
    {
      "cell_type": "markdown",
      "source": [
        "# ***Hyperparameter tuning*** #"
      ],
      "metadata": {
        "id": "D517e0xR1TV5"
      }
    },
    {
      "cell_type": "code",
      "source": [
        "!pip3 install keras-tuner\n",
        "!pip3 install keras-tuner --upgrade\n",
        "from tensorflow.keras.models import Sequential\n",
        "from tensorflow.keras.layers import *\n",
        "from tensorflow.keras.callbacks import ModelCheckpoint\n",
        "from tensorflow.keras.losses import MeanSquaredError\n",
        "from tensorflow.keras.metrics import RootMeanSquaredError\n",
        "from tensorflow.keras.optimizers import Adam"
      ],
      "metadata": {
        "id": "guPNXFzQk8FC",
        "colab": {
          "base_uri": "https://localhost:8080/"
        },
        "outputId": "f5de086b-33ac-460f-ce41-1ec331c659b3"
      },
      "execution_count": null,
      "outputs": [
        {
          "output_type": "stream",
          "name": "stdout",
          "text": [
            "Looking in indexes: https://pypi.org/simple, https://us-python.pkg.dev/colab-wheels/public/simple/\n",
            "Requirement already satisfied: keras-tuner in /usr/local/lib/python3.7/dist-packages (1.1.3)\n",
            "Requirement already satisfied: kt-legacy in /usr/local/lib/python3.7/dist-packages (from keras-tuner) (1.0.4)\n",
            "Requirement already satisfied: packaging in /usr/local/lib/python3.7/dist-packages (from keras-tuner) (21.3)\n",
            "Requirement already satisfied: requests in /usr/local/lib/python3.7/dist-packages (from keras-tuner) (2.23.0)\n",
            "Requirement already satisfied: ipython in /usr/local/lib/python3.7/dist-packages (from keras-tuner) (7.9.0)\n",
            "Requirement already satisfied: numpy in /usr/local/lib/python3.7/dist-packages (from keras-tuner) (1.21.6)\n",
            "Requirement already satisfied: tensorboard in /usr/local/lib/python3.7/dist-packages (from keras-tuner) (2.8.0)\n",
            "Requirement already satisfied: prompt-toolkit<2.1.0,>=2.0.0 in /usr/local/lib/python3.7/dist-packages (from ipython->keras-tuner) (2.0.10)\n",
            "Requirement already satisfied: pickleshare in /usr/local/lib/python3.7/dist-packages (from ipython->keras-tuner) (0.7.5)\n",
            "Requirement already satisfied: jedi>=0.10 in /usr/local/lib/python3.7/dist-packages (from ipython->keras-tuner) (0.18.1)\n",
            "Requirement already satisfied: traitlets>=4.2 in /usr/local/lib/python3.7/dist-packages (from ipython->keras-tuner) (5.1.1)\n",
            "Requirement already satisfied: pexpect in /usr/local/lib/python3.7/dist-packages (from ipython->keras-tuner) (4.8.0)\n",
            "Requirement already satisfied: pygments in /usr/local/lib/python3.7/dist-packages (from ipython->keras-tuner) (2.6.1)\n",
            "Requirement already satisfied: backcall in /usr/local/lib/python3.7/dist-packages (from ipython->keras-tuner) (0.2.0)\n",
            "Requirement already satisfied: setuptools>=18.5 in /usr/local/lib/python3.7/dist-packages (from ipython->keras-tuner) (57.4.0)\n",
            "Requirement already satisfied: decorator in /usr/local/lib/python3.7/dist-packages (from ipython->keras-tuner) (4.4.2)\n",
            "Requirement already satisfied: parso<0.9.0,>=0.8.0 in /usr/local/lib/python3.7/dist-packages (from jedi>=0.10->ipython->keras-tuner) (0.8.3)\n",
            "Requirement already satisfied: wcwidth in /usr/local/lib/python3.7/dist-packages (from prompt-toolkit<2.1.0,>=2.0.0->ipython->keras-tuner) (0.2.5)\n",
            "Requirement already satisfied: six>=1.9.0 in /usr/local/lib/python3.7/dist-packages (from prompt-toolkit<2.1.0,>=2.0.0->ipython->keras-tuner) (1.15.0)\n",
            "Requirement already satisfied: pyparsing!=3.0.5,>=2.0.2 in /usr/local/lib/python3.7/dist-packages (from packaging->keras-tuner) (3.0.9)\n",
            "Requirement already satisfied: ptyprocess>=0.5 in /usr/local/lib/python3.7/dist-packages (from pexpect->ipython->keras-tuner) (0.7.0)\n",
            "Requirement already satisfied: chardet<4,>=3.0.2 in /usr/local/lib/python3.7/dist-packages (from requests->keras-tuner) (3.0.4)\n",
            "Requirement already satisfied: urllib3!=1.25.0,!=1.25.1,<1.26,>=1.21.1 in /usr/local/lib/python3.7/dist-packages (from requests->keras-tuner) (1.24.3)\n",
            "Requirement already satisfied: idna<3,>=2.5 in /usr/local/lib/python3.7/dist-packages (from requests->keras-tuner) (2.10)\n",
            "Requirement already satisfied: certifi>=2017.4.17 in /usr/local/lib/python3.7/dist-packages (from requests->keras-tuner) (2022.6.15)\n",
            "Requirement already satisfied: markdown>=2.6.8 in /usr/local/lib/python3.7/dist-packages (from tensorboard->keras-tuner) (3.4.1)\n",
            "Requirement already satisfied: tensorboard-plugin-wit>=1.6.0 in /usr/local/lib/python3.7/dist-packages (from tensorboard->keras-tuner) (1.8.1)\n",
            "Requirement already satisfied: tensorboard-data-server<0.7.0,>=0.6.0 in /usr/local/lib/python3.7/dist-packages (from tensorboard->keras-tuner) (0.6.1)\n",
            "Requirement already satisfied: werkzeug>=0.11.15 in /usr/local/lib/python3.7/dist-packages (from tensorboard->keras-tuner) (1.0.1)\n",
            "Requirement already satisfied: absl-py>=0.4 in /usr/local/lib/python3.7/dist-packages (from tensorboard->keras-tuner) (1.2.0)\n",
            "Requirement already satisfied: protobuf>=3.6.0 in /usr/local/lib/python3.7/dist-packages (from tensorboard->keras-tuner) (3.17.3)\n",
            "Requirement already satisfied: google-auth<3,>=1.6.3 in /usr/local/lib/python3.7/dist-packages (from tensorboard->keras-tuner) (1.35.0)\n",
            "Requirement already satisfied: wheel>=0.26 in /usr/local/lib/python3.7/dist-packages (from tensorboard->keras-tuner) (0.37.1)\n",
            "Requirement already satisfied: grpcio>=1.24.3 in /usr/local/lib/python3.7/dist-packages (from tensorboard->keras-tuner) (1.47.0)\n",
            "Requirement already satisfied: google-auth-oauthlib<0.5,>=0.4.1 in /usr/local/lib/python3.7/dist-packages (from tensorboard->keras-tuner) (0.4.6)\n",
            "Requirement already satisfied: cachetools<5.0,>=2.0.0 in /usr/local/lib/python3.7/dist-packages (from google-auth<3,>=1.6.3->tensorboard->keras-tuner) (4.2.4)\n",
            "Requirement already satisfied: rsa<5,>=3.1.4 in /usr/local/lib/python3.7/dist-packages (from google-auth<3,>=1.6.3->tensorboard->keras-tuner) (4.9)\n",
            "Requirement already satisfied: pyasn1-modules>=0.2.1 in /usr/local/lib/python3.7/dist-packages (from google-auth<3,>=1.6.3->tensorboard->keras-tuner) (0.2.8)\n",
            "Requirement already satisfied: requests-oauthlib>=0.7.0 in /usr/local/lib/python3.7/dist-packages (from google-auth-oauthlib<0.5,>=0.4.1->tensorboard->keras-tuner) (1.3.1)\n",
            "Requirement already satisfied: importlib-metadata>=4.4 in /usr/local/lib/python3.7/dist-packages (from markdown>=2.6.8->tensorboard->keras-tuner) (4.12.0)\n",
            "Requirement already satisfied: zipp>=0.5 in /usr/local/lib/python3.7/dist-packages (from importlib-metadata>=4.4->markdown>=2.6.8->tensorboard->keras-tuner) (3.8.1)\n",
            "Requirement already satisfied: typing-extensions>=3.6.4 in /usr/local/lib/python3.7/dist-packages (from importlib-metadata>=4.4->markdown>=2.6.8->tensorboard->keras-tuner) (4.1.1)\n",
            "Requirement already satisfied: pyasn1<0.5.0,>=0.4.6 in /usr/local/lib/python3.7/dist-packages (from pyasn1-modules>=0.2.1->google-auth<3,>=1.6.3->tensorboard->keras-tuner) (0.4.8)\n",
            "Requirement already satisfied: oauthlib>=3.0.0 in /usr/local/lib/python3.7/dist-packages (from requests-oauthlib>=0.7.0->google-auth-oauthlib<0.5,>=0.4.1->tensorboard->keras-tuner) (3.2.0)\n",
            "Looking in indexes: https://pypi.org/simple, https://us-python.pkg.dev/colab-wheels/public/simple/\n",
            "Requirement already satisfied: keras-tuner in /usr/local/lib/python3.7/dist-packages (1.1.3)\n",
            "Requirement already satisfied: numpy in /usr/local/lib/python3.7/dist-packages (from keras-tuner) (1.21.6)\n",
            "Requirement already satisfied: tensorboard in /usr/local/lib/python3.7/dist-packages (from keras-tuner) (2.8.0)\n",
            "Requirement already satisfied: ipython in /usr/local/lib/python3.7/dist-packages (from keras-tuner) (7.9.0)\n",
            "Requirement already satisfied: packaging in /usr/local/lib/python3.7/dist-packages (from keras-tuner) (21.3)\n",
            "Requirement already satisfied: requests in /usr/local/lib/python3.7/dist-packages (from keras-tuner) (2.23.0)\n",
            "Requirement already satisfied: kt-legacy in /usr/local/lib/python3.7/dist-packages (from keras-tuner) (1.0.4)\n",
            "Requirement already satisfied: traitlets>=4.2 in /usr/local/lib/python3.7/dist-packages (from ipython->keras-tuner) (5.1.1)\n",
            "Requirement already satisfied: setuptools>=18.5 in /usr/local/lib/python3.7/dist-packages (from ipython->keras-tuner) (57.4.0)\n",
            "Requirement already satisfied: backcall in /usr/local/lib/python3.7/dist-packages (from ipython->keras-tuner) (0.2.0)\n",
            "Requirement already satisfied: prompt-toolkit<2.1.0,>=2.0.0 in /usr/local/lib/python3.7/dist-packages (from ipython->keras-tuner) (2.0.10)\n",
            "Requirement already satisfied: jedi>=0.10 in /usr/local/lib/python3.7/dist-packages (from ipython->keras-tuner) (0.18.1)\n",
            "Requirement already satisfied: pickleshare in /usr/local/lib/python3.7/dist-packages (from ipython->keras-tuner) (0.7.5)\n",
            "Requirement already satisfied: decorator in /usr/local/lib/python3.7/dist-packages (from ipython->keras-tuner) (4.4.2)\n",
            "Requirement already satisfied: pexpect in /usr/local/lib/python3.7/dist-packages (from ipython->keras-tuner) (4.8.0)\n",
            "Requirement already satisfied: pygments in /usr/local/lib/python3.7/dist-packages (from ipython->keras-tuner) (2.6.1)\n",
            "Requirement already satisfied: parso<0.9.0,>=0.8.0 in /usr/local/lib/python3.7/dist-packages (from jedi>=0.10->ipython->keras-tuner) (0.8.3)\n",
            "Requirement already satisfied: wcwidth in /usr/local/lib/python3.7/dist-packages (from prompt-toolkit<2.1.0,>=2.0.0->ipython->keras-tuner) (0.2.5)\n",
            "Requirement already satisfied: six>=1.9.0 in /usr/local/lib/python3.7/dist-packages (from prompt-toolkit<2.1.0,>=2.0.0->ipython->keras-tuner) (1.15.0)\n",
            "Requirement already satisfied: pyparsing!=3.0.5,>=2.0.2 in /usr/local/lib/python3.7/dist-packages (from packaging->keras-tuner) (3.0.9)\n",
            "Requirement already satisfied: ptyprocess>=0.5 in /usr/local/lib/python3.7/dist-packages (from pexpect->ipython->keras-tuner) (0.7.0)\n",
            "Requirement already satisfied: certifi>=2017.4.17 in /usr/local/lib/python3.7/dist-packages (from requests->keras-tuner) (2022.6.15)\n",
            "Requirement already satisfied: urllib3!=1.25.0,!=1.25.1,<1.26,>=1.21.1 in /usr/local/lib/python3.7/dist-packages (from requests->keras-tuner) (1.24.3)\n",
            "Requirement already satisfied: chardet<4,>=3.0.2 in /usr/local/lib/python3.7/dist-packages (from requests->keras-tuner) (3.0.4)\n",
            "Requirement already satisfied: idna<3,>=2.5 in /usr/local/lib/python3.7/dist-packages (from requests->keras-tuner) (2.10)\n",
            "Requirement already satisfied: google-auth-oauthlib<0.5,>=0.4.1 in /usr/local/lib/python3.7/dist-packages (from tensorboard->keras-tuner) (0.4.6)\n",
            "Requirement already satisfied: protobuf>=3.6.0 in /usr/local/lib/python3.7/dist-packages (from tensorboard->keras-tuner) (3.17.3)\n",
            "Requirement already satisfied: wheel>=0.26 in /usr/local/lib/python3.7/dist-packages (from tensorboard->keras-tuner) (0.37.1)\n",
            "Requirement already satisfied: werkzeug>=0.11.15 in /usr/local/lib/python3.7/dist-packages (from tensorboard->keras-tuner) (1.0.1)\n",
            "Requirement already satisfied: tensorboard-plugin-wit>=1.6.0 in /usr/local/lib/python3.7/dist-packages (from tensorboard->keras-tuner) (1.8.1)\n",
            "Requirement already satisfied: absl-py>=0.4 in /usr/local/lib/python3.7/dist-packages (from tensorboard->keras-tuner) (1.2.0)\n",
            "Requirement already satisfied: markdown>=2.6.8 in /usr/local/lib/python3.7/dist-packages (from tensorboard->keras-tuner) (3.4.1)\n",
            "Requirement already satisfied: google-auth<3,>=1.6.3 in /usr/local/lib/python3.7/dist-packages (from tensorboard->keras-tuner) (1.35.0)\n",
            "Requirement already satisfied: tensorboard-data-server<0.7.0,>=0.6.0 in /usr/local/lib/python3.7/dist-packages (from tensorboard->keras-tuner) (0.6.1)\n",
            "Requirement already satisfied: grpcio>=1.24.3 in /usr/local/lib/python3.7/dist-packages (from tensorboard->keras-tuner) (1.47.0)\n",
            "Requirement already satisfied: rsa<5,>=3.1.4 in /usr/local/lib/python3.7/dist-packages (from google-auth<3,>=1.6.3->tensorboard->keras-tuner) (4.9)\n",
            "Requirement already satisfied: cachetools<5.0,>=2.0.0 in /usr/local/lib/python3.7/dist-packages (from google-auth<3,>=1.6.3->tensorboard->keras-tuner) (4.2.4)\n",
            "Requirement already satisfied: pyasn1-modules>=0.2.1 in /usr/local/lib/python3.7/dist-packages (from google-auth<3,>=1.6.3->tensorboard->keras-tuner) (0.2.8)\n",
            "Requirement already satisfied: requests-oauthlib>=0.7.0 in /usr/local/lib/python3.7/dist-packages (from google-auth-oauthlib<0.5,>=0.4.1->tensorboard->keras-tuner) (1.3.1)\n",
            "Requirement already satisfied: importlib-metadata>=4.4 in /usr/local/lib/python3.7/dist-packages (from markdown>=2.6.8->tensorboard->keras-tuner) (4.12.0)\n",
            "Requirement already satisfied: zipp>=0.5 in /usr/local/lib/python3.7/dist-packages (from importlib-metadata>=4.4->markdown>=2.6.8->tensorboard->keras-tuner) (3.8.1)\n",
            "Requirement already satisfied: typing-extensions>=3.6.4 in /usr/local/lib/python3.7/dist-packages (from importlib-metadata>=4.4->markdown>=2.6.8->tensorboard->keras-tuner) (4.1.1)\n",
            "Requirement already satisfied: pyasn1<0.5.0,>=0.4.6 in /usr/local/lib/python3.7/dist-packages (from pyasn1-modules>=0.2.1->google-auth<3,>=1.6.3->tensorboard->keras-tuner) (0.4.8)\n",
            "Requirement already satisfied: oauthlib>=3.0.0 in /usr/local/lib/python3.7/dist-packages (from requests-oauthlib>=0.7.0->google-auth-oauthlib<0.5,>=0.4.1->tensorboard->keras-tuner) (3.2.0)\n"
          ]
        }
      ]
    },
    {
      "cell_type": "code",
      "source": [
        "from keras_tuner.protos.keras_tuner_pb2 import Choice\n",
        "class HyperParamModel(keras_tuner.HyperModel):\n",
        "  def build(self,hp):\n",
        "    model = Sequential()\n",
        "    model.add(LSTM(hp.Choice('units1',[64]), input_shape=(train_X.shape[1], train_X.shape[2]),return_sequences=True))\n",
        "    model.add(LSTM(hp.Choice('units2',[32]), activation='relu', return_sequences=True))\n",
        "    model.add(LSTM(hp.Choice('units3',[16]), activation='relu', return_sequences=False))\n",
        "    model.add(Dropout(0.2))\n",
        "    model.add(Dense(train_y.shape[1]))\n",
        "    model.compile(optimizer=Adam(learning_rate=0.0001),loss='mae',metrics=[tf.keras.metrics.MeanAbsoluteError()])\n",
        "    return model\n",
        "  def fit(self,hp,model,x,y,**kwargs):\n",
        "    return model.fit(x,y,\n",
        "        shuffle=hp.Boolean(\"shuffle\"),\n",
        "        batch_size=hp.Choice('batch_size',[4,8,16]),\n",
        "        epochs=hp.Choice('epochs',[20,30,40]),\n",
        "        validation_split=0.2\n",
        "    )"
      ],
      "metadata": {
        "id": "qgpQ1Fb7QYJQ"
      },
      "execution_count": null,
      "outputs": []
    },
    {
      "cell_type": "code",
      "source": [
        "tuner = keras_tuner.RandomSearch(\n",
        "    HyperParamModel(),\n",
        "    objective=keras_tuner.Objective(\"val_mean_absolute_error\", direction=\"min\"),\n",
        "    max_trials=100,\n",
        "    overwrite=True,\n",
        "    directory=\"/content/drive/MyDrive/Dissertation/My Dissertation/Tuning\",\n",
        "    project_name=\"LSTM\")"
      ],
      "metadata": {
        "id": "rF0XCkhlQf6b"
      },
      "execution_count": null,
      "outputs": []
    },
    {
      "cell_type": "code",
      "source": [
        "import shutil\n",
        "shutil.rmtree(\"/content/drive/MyDrive/Dissertation/My Dissertation/Tuning\")"
      ],
      "metadata": {
        "id": "qwofBwdnQ7yd"
      },
      "execution_count": null,
      "outputs": []
    },
    {
      "cell_type": "code",
      "source": [
        "tuner.search(train_X, train_y)\n",
        "#best_model = tuner.get_best_models()[0]\n",
        "tuner.results_summary()"
      ],
      "metadata": {
        "colab": {
          "base_uri": "https://localhost:8080/"
        },
        "id": "X2S1EsGlREcr",
        "outputId": "c7d30f8e-4dde-40f4-dc42-0e6a7c4ff59a"
      },
      "execution_count": null,
      "outputs": [
        {
          "output_type": "stream",
          "name": "stdout",
          "text": [
            "Trial 16 Complete [00h 00m 46s]\n",
            "val_mean_absolute_error: 28250.59765625\n",
            "\n",
            "Best val_mean_absolute_error So Far: 24639.884765625\n",
            "Total elapsed time: 00h 23m 27s\n",
            "Results summary\n",
            "Results in /content/drive/MyDrive/Dissertation/My Dissertation/Tuning/LSTM\n",
            "Showing 10 best trials\n",
            "<keras_tuner.engine.objective.Objective object at 0x7f43a5f7a810>\n",
            "Trial summary\n",
            "Hyperparameters:\n",
            "units1: 64\n",
            "units2: 32\n",
            "units3: 16\n",
            "shuffle: True\n",
            "batch_size: 8\n",
            "epochs: 40\n",
            "Score: 24639.884765625\n",
            "Trial summary\n",
            "Hyperparameters:\n",
            "units1: 64\n",
            "units2: 32\n",
            "units3: 16\n",
            "shuffle: True\n",
            "batch_size: 4\n",
            "epochs: 40\n",
            "Score: 25199.892578125\n",
            "Trial summary\n",
            "Hyperparameters:\n",
            "units1: 64\n",
            "units2: 32\n",
            "units3: 16\n",
            "shuffle: True\n",
            "batch_size: 8\n",
            "epochs: 30\n",
            "Score: 25485.576171875\n",
            "Trial summary\n",
            "Hyperparameters:\n",
            "units1: 64\n",
            "units2: 32\n",
            "units3: 16\n",
            "shuffle: True\n",
            "batch_size: 4\n",
            "epochs: 30\n",
            "Score: 25853.12109375\n",
            "Trial summary\n",
            "Hyperparameters:\n",
            "units1: 64\n",
            "units2: 32\n",
            "units3: 16\n",
            "shuffle: False\n",
            "batch_size: 4\n",
            "epochs: 20\n",
            "Score: 26156.361328125\n",
            "Trial summary\n",
            "Hyperparameters:\n",
            "units1: 64\n",
            "units2: 32\n",
            "units3: 16\n",
            "shuffle: False\n",
            "batch_size: 4\n",
            "epochs: 20\n",
            "Score: 26741.09765625\n",
            "Trial summary\n",
            "Hyperparameters:\n",
            "units1: 64\n",
            "units2: 32\n",
            "units3: 16\n",
            "shuffle: False\n",
            "batch_size: 4\n",
            "epochs: 30\n",
            "Score: 26920.185546875\n",
            "Trial summary\n",
            "Hyperparameters:\n",
            "units1: 64\n",
            "units2: 32\n",
            "units3: 16\n",
            "shuffle: False\n",
            "batch_size: 8\n",
            "epochs: 20\n",
            "Score: 27340.255859375\n",
            "Trial summary\n",
            "Hyperparameters:\n",
            "units1: 64\n",
            "units2: 32\n",
            "units3: 16\n",
            "shuffle: False\n",
            "batch_size: 4\n",
            "epochs: 40\n",
            "Score: 27527.265625\n",
            "Trial summary\n",
            "Hyperparameters:\n",
            "units1: 64\n",
            "units2: 32\n",
            "units3: 16\n",
            "shuffle: False\n",
            "batch_size: 8\n",
            "epochs: 40\n",
            "Score: 27857.86328125\n"
          ]
        }
      ]
    },
    {
      "cell_type": "code",
      "source": [
        "# fit model\n",
        "from tensorflow.keras.models import Sequential\n",
        "from tensorflow.keras.layers import *\n",
        "from tensorflow.keras.callbacks import ModelCheckpoint\n",
        "from tensorflow.keras.losses import MeanSquaredError\n",
        "from tensorflow.keras.metrics import RootMeanSquaredError\n",
        "from tensorflow.keras.optimizers import Adam\n",
        "tuned_model = Sequential()\n",
        "tuned_model.add(LSTM(64, activation='relu', input_shape=(train_X.shape[1], train_X.shape[2]), return_sequences=True))\n",
        "tuned_model.add(LSTM(32, activation='relu', return_sequences=True))\n",
        "tuned_model.add(LSTM(16, activation='relu', return_sequences=False))\n",
        "#tuned_model.add(Dropout(0.1))\n",
        "tuned_model.add(Dense(train_y.shape[1]))\n",
        "\n",
        "tuned_model.compile(optimizer=Adam(learning_rate=0.0001), loss='mae')\n",
        "\n"
      ],
      "metadata": {
        "id": "emiqEBmcXp1A"
      },
      "execution_count": null,
      "outputs": []
    },
    {
      "cell_type": "code",
      "source": [
        "tuned_history = tuned_model.fit(train_X, train_y, epochs=40, batch_size=8,validation_split=0.2, verbose=1)"
      ],
      "metadata": {
        "colab": {
          "base_uri": "https://localhost:8080/"
        },
        "id": "6g2arfH8_wgt",
        "outputId": "f675231e-c2ce-4263-a1d8-9fae9ad26ef7"
      },
      "execution_count": null,
      "outputs": [
        {
          "output_type": "stream",
          "name": "stdout",
          "text": [
            "Epoch 1/40\n",
            "147/147 [==============================] - 2s 13ms/step - loss: 390.0561 - val_loss: 2076.0906\n",
            "Epoch 2/40\n",
            "147/147 [==============================] - 3s 21ms/step - loss: 445.2716 - val_loss: 3044.3799\n",
            "Epoch 3/40\n",
            "147/147 [==============================] - 3s 20ms/step - loss: 430.2586 - val_loss: 2182.7744\n",
            "Epoch 4/40\n",
            "147/147 [==============================] - 2s 13ms/step - loss: 405.0350 - val_loss: 1956.7728\n",
            "Epoch 5/40\n",
            "147/147 [==============================] - 2s 13ms/step - loss: 383.5169 - val_loss: 1877.1033\n",
            "Epoch 6/40\n",
            "147/147 [==============================] - 2s 13ms/step - loss: 391.7219 - val_loss: 1760.0181\n",
            "Epoch 7/40\n",
            "147/147 [==============================] - 2s 13ms/step - loss: 407.4651 - val_loss: 3032.6001\n",
            "Epoch 8/40\n",
            "147/147 [==============================] - 2s 13ms/step - loss: 455.7657 - val_loss: 2321.3384\n",
            "Epoch 9/40\n",
            "147/147 [==============================] - 2s 13ms/step - loss: 416.4690 - val_loss: 2201.7935\n",
            "Epoch 10/40\n",
            "147/147 [==============================] - 2s 13ms/step - loss: 626.3771 - val_loss: 4343.7100\n",
            "Epoch 11/40\n",
            "147/147 [==============================] - 2s 12ms/step - loss: 584.2716 - val_loss: 2999.4756\n",
            "Epoch 12/40\n",
            "147/147 [==============================] - 2s 13ms/step - loss: 543.2031 - val_loss: 2765.9929\n",
            "Epoch 13/40\n",
            "147/147 [==============================] - 2s 13ms/step - loss: 547.1968 - val_loss: 2825.7136\n",
            "Epoch 14/40\n",
            "147/147 [==============================] - 2s 13ms/step - loss: 492.5085 - val_loss: 2503.7297\n",
            "Epoch 15/40\n",
            "147/147 [==============================] - 2s 13ms/step - loss: 521.7276 - val_loss: 2730.2661\n",
            "Epoch 16/40\n",
            "147/147 [==============================] - 2s 13ms/step - loss: 514.7719 - val_loss: 2773.3911\n",
            "Epoch 17/40\n",
            "147/147 [==============================] - 2s 13ms/step - loss: 507.0085 - val_loss: 2472.4578\n",
            "Epoch 18/40\n",
            "147/147 [==============================] - 2s 13ms/step - loss: 479.3104 - val_loss: 2488.7402\n",
            "Epoch 19/40\n",
            "147/147 [==============================] - 2s 12ms/step - loss: 510.2963 - val_loss: 2941.2446\n",
            "Epoch 20/40\n",
            "147/147 [==============================] - 2s 12ms/step - loss: 509.9309 - val_loss: 2399.8611\n",
            "Epoch 21/40\n",
            "147/147 [==============================] - 2s 13ms/step - loss: 413.4115 - val_loss: 2171.2744\n",
            "Epoch 22/40\n",
            "147/147 [==============================] - 2s 12ms/step - loss: 420.0401 - val_loss: 2089.5247\n",
            "Epoch 23/40\n",
            "147/147 [==============================] - 2s 12ms/step - loss: 411.4206 - val_loss: 2331.2935\n",
            "Epoch 24/40\n",
            "147/147 [==============================] - 2s 13ms/step - loss: 443.7779 - val_loss: 2236.8877\n",
            "Epoch 25/40\n",
            "147/147 [==============================] - 2s 13ms/step - loss: 453.5424 - val_loss: 2614.4978\n",
            "Epoch 26/40\n",
            "147/147 [==============================] - 2s 13ms/step - loss: 457.0843 - val_loss: 2442.1284\n",
            "Epoch 27/40\n",
            "147/147 [==============================] - 2s 12ms/step - loss: 559.0515 - val_loss: 3443.7295\n",
            "Epoch 28/40\n",
            "147/147 [==============================] - 2s 13ms/step - loss: 507.3963 - val_loss: 2743.7700\n",
            "Epoch 29/40\n",
            "147/147 [==============================] - 2s 13ms/step - loss: 490.8952 - val_loss: 2336.6135\n",
            "Epoch 30/40\n",
            "147/147 [==============================] - 2s 13ms/step - loss: 468.6251 - val_loss: 5591.0015\n",
            "Epoch 31/40\n",
            "147/147 [==============================] - 2s 13ms/step - loss: 459.1729 - val_loss: 2103.7385\n",
            "Epoch 32/40\n",
            "147/147 [==============================] - 2s 13ms/step - loss: 399.5455 - val_loss: 2102.8096\n",
            "Epoch 33/40\n",
            "147/147 [==============================] - 2s 13ms/step - loss: 471.4067 - val_loss: 2180.9568\n",
            "Epoch 34/40\n",
            "147/147 [==============================] - 3s 23ms/step - loss: 426.8588 - val_loss: 2086.2285\n",
            "Epoch 35/40\n",
            "147/147 [==============================] - 2s 12ms/step - loss: 481.0934 - val_loss: 2267.5051\n",
            "Epoch 36/40\n",
            "147/147 [==============================] - 2s 12ms/step - loss: 439.0213 - val_loss: 2211.8079\n",
            "Epoch 37/40\n",
            "147/147 [==============================] - 2s 13ms/step - loss: 433.5835 - val_loss: 2217.4319\n",
            "Epoch 38/40\n",
            "147/147 [==============================] - 2s 13ms/step - loss: 425.4362 - val_loss: 2206.2495\n",
            "Epoch 39/40\n",
            "147/147 [==============================] - 2s 13ms/step - loss: 421.3391 - val_loss: 2146.3164\n",
            "Epoch 40/40\n",
            "147/147 [==============================] - 2s 13ms/step - loss: 415.3109 - val_loss: 2148.1982\n"
          ]
        }
      ]
    },
    {
      "cell_type": "code",
      "source": [
        "plt.rcParams[\"figure.figsize\"] = (30,10)\n",
        "plt.plot(tuned_history.history['loss'], label='Training loss')\n",
        "plt.plot(tuned_history.history['val_loss'], label='Validation loss')\n",
        "plt.legend()"
      ],
      "metadata": {
        "id": "motEO70s2ng1"
      },
      "execution_count": null,
      "outputs": []
    },
    {
      "cell_type": "code",
      "source": [
        "\n",
        "t_prediction = tuned_model.predict(test_X)"
      ],
      "metadata": {
        "id": "Syxx5xMyYWdN"
      },
      "execution_count": null,
      "outputs": []
    },
    {
      "cell_type": "code",
      "source": [
        "plt.rcParams[\"figure.figsize\"] = (30,10)\n",
        "plt.plot(t_prediction,label='LSTM predicted for Lag7')\n",
        "plt.plot(test_y,label='Actual Bitcoin price')\n",
        "plt.legend(loc=\"upper left\")\n",
        "plt.title('LSTM predictions v/s actual britcoin price after tuning for Lag7',fontweight=\"bold\",fontsize = 15)\n",
        "plt.show()"
      ],
      "metadata": {
        "colab": {
          "base_uri": "https://localhost:8080/",
          "height": 441
        },
        "id": "FBx8y8HkYf4C",
        "outputId": "4e36bddc-dbee-4283-d9fa-fd1310bd0254"
      },
      "execution_count": null,
      "outputs": [
        {
          "output_type": "display_data",
          "data": {
            "text/plain": [
              "<Figure size 2160x720 with 1 Axes>"
            ],
            "image/png": "[encoded data removed]"
          },
          "metadata": {
            "needs_background": "light"
          }
        }
      ]
    },
    {
      "cell_type": "code",
      "source": [
        "mape = mean_absolute_percentage_error(test_y,t_prediction)\n",
        "mae,rmse,mse,r2=calculate_metrics(test_y,t_prediction)\n",
        "print('Results of LSTM model ')\n",
        "print('MAPE  :{:0.4f}'.format(mape))\n",
        "print('MAE  :{:0.4f}'.format(mae))\n",
        "print('RMSE :{:0.4f} '.format(rmse))\n",
        "print('MSE :{:0.4f} '.format(mse))\n",
        "print('r2 :{:0.4f} '.format(r2))"
      ],
      "metadata": {
        "colab": {
          "base_uri": "https://localhost:8080/"
        },
        "id": "M-KyKPXKIhy2",
        "outputId": "8b8b47ed-9b30-4186-c455-6a599de06fa5"
      },
      "execution_count": null,
      "outputs": [
        {
          "output_type": "stream",
          "name": "stdout",
          "text": [
            "mape---5.029849456354971\n",
            "Results of LSTM model \n",
            "MAPE  :5.0298\n",
            "MAE  :2042.1980\n",
            "RMSE :2659.2345 \n",
            "MSE :7071528.0188 \n",
            "r2 :0.9453 \n"
          ]
        }
      ]
    },
    {
      "cell_type": "code",
      "source": [
        "print('mean of test Y   :{:0.4f}'.format(test_y.mean()))\n",
        "print('max of test Y   :{:0.4f}'.format(test_y.max()))\n",
        "print('min of test Y   :{:0.4f}'.format(test_y.min()))\n",
        "\n",
        "scaled_rmse_tuned=rmse/(test_y.max()-test_y.min())\n",
        "print('scaled_rmse   :{:0.4f}'.format(scaled_rmse_tuned))"
      ],
      "metadata": {
        "colab": {
          "base_uri": "https://localhost:8080/"
        },
        "id": "FydNBQUTfv8C",
        "outputId": "3f7eadb0-53c4-45de-d4c3-5f9dda8e13bf"
      },
      "execution_count": null,
      "outputs": [
        {
          "output_type": "stream",
          "name": "stdout",
          "text": [
            "mean of test Y   :42215.6181\n",
            "max of test Y   :67734.0400\n",
            "min of test Y   :17785.0900\n",
            "scaled_rmse   :0.0539\n"
          ]
        }
      ]
    },
    {
      "cell_type": "code",
      "source": [],
      "metadata": {
        "id": "T_HuvREB_X1y"
      },
      "execution_count": null,
      "outputs": []
    }
  ]
}